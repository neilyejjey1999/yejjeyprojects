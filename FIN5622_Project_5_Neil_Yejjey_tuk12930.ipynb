{
 "cells": [
  {
   "cell_type": "markdown",
   "metadata": {
    "deletable": false,
    "editable": false
   },
   "source": [
    "<h2>FIN5622 Project #5\n",
    "    <p class=\"text-primary\">Loan Default Prediction with Neural Networks</p>\n",
    "</h2>"
   ]
  },
  {
   "cell_type": "markdown",
   "metadata": {
    "deletable": false,
    "editable": false
   },
   "source": [
    "<div class = \"panel panel-success\">\n",
    "    <div class = \"panel-heading\"> \n",
    "    <span style=\"color:black\"><b>Project Introduction</b>\n",
    "    </div>\n",
    "    <div class = \"panel-body\"> \n",
    "    In this project we will build a neural network model to predict borrower defaults on a set of loan performance data.\n",
    "    </div>\n",
    "</div>\n",
    "\n",
    "<div class = \"panel panel-info\">\n",
    "    <div class = \"panel-heading\"> \n",
    "    <span style=\"color:black\"><b>Instructions</b>\n",
    "    </div>\n",
    "    <div class = \"panel-body\"> \n",
    "    Please code you solutions directly in this Notebook under each task in the cells provided below. Tasks are intended to be done in order with results from one task informing work in later tasks. Include all code used to produce your results, and support your answers with textual explanations if neccessary. <b>Any written text must be typed in a markdown cell to receive credit!</b> You may feel free to add additional Code and/or Markdown cells as needed. Code must be written using <b>Python 3</b>.\n",
    "    <br><br>Please order the cells in your Notebook in the order in which they are intended to run! It is expected that your Notebook is able to run in sequence from start to finish without any errors (before submitting check by: <code>Kernel > Restart & Run All</code>).\n",
    "    <br><br>Once ready, please submit your assignment as an <b>.ipynb file</b> (<code>File > Download as > Notebook</code>). You must name your files in the following format: <b><code>FIN5622_Project_5_Richard_Lee_tuc12345.ipynb</code></b>.\n",
    "    </div>\n",
    "</div>\n",
    "\n",
    "---\n",
    "<div class = \"alert alert-block alert-warning\">\n",
    "    <b>Note</b>: Import all libraries that you plan on using in the code block below.\n",
    "</div>"
   ]
  },
  {
   "cell_type": "code",
   "execution_count": 1,
   "metadata": {},
   "outputs": [
    {
     "name": "stdout",
     "output_type": "stream",
     "text": [
      "TensorFlow version: 2.8.0\n"
     ]
    }
   ],
   "source": [
    "import pandas as pd\n",
    "import numpy as np\n",
    "import matplotlib.pyplot as plt\n",
    "\n",
    "from sklearn.model_selection import train_test_split\n",
    "from sklearn.metrics import roc_curve, roc_auc_score\n",
    "\n",
    "import tensorflow as tf\n",
    "print(\"TensorFlow version:\", tf.__version__) #Check Tensorflow version is at least 2.8!"
   ]
  },
  {
   "cell_type": "markdown",
   "metadata": {
    "deletable": false,
    "editable": false
   },
   "source": [
    "<div class = \"panel panel-primary\">\n",
    "    <div class = \"panel-heading\"> \n",
    "    <span style=\"color:white\"><b>Task 1</b>\n",
    "    </div>\n",
    "    <div class = \"panel-body\"> \n",
    "    Read in the dataset \"loan_performance_data_2016.csv\" into a dataframe called <code>loans</code> using the pandas <code>pd.read_csv()</code> function. Check that there are 405,180 loans present in the dataframe.\n",
    "    <br><br>\n",
    "    Note that there are 16 feature columns and 1 target column (i.e. \"loan_default\") in this dataset. Please review the file \"Loan_Data_Dictionary.xlsx\" for definitions on each column.\n",
    "    <p style=\"text-align:right;\">[0pts]</p>\n",
    "    </div>\n",
    "</div>"
   ]
  },
  {
   "cell_type": "code",
   "execution_count": 2,
   "metadata": {},
   "outputs": [
    {
     "data": {
      "text/html": [
       "<div>\n",
       "<style scoped>\n",
       "    .dataframe tbody tr th:only-of-type {\n",
       "        vertical-align: middle;\n",
       "    }\n",
       "\n",
       "    .dataframe tbody tr th {\n",
       "        vertical-align: top;\n",
       "    }\n",
       "\n",
       "    .dataframe thead th {\n",
       "        text-align: right;\n",
       "    }\n",
       "</style>\n",
       "<table border=\"1\" class=\"dataframe\">\n",
       "  <thead>\n",
       "    <tr style=\"text-align: right;\">\n",
       "      <th></th>\n",
       "      <th>loan_amnt</th>\n",
       "      <th>loan_term</th>\n",
       "      <th>int_rate</th>\n",
       "      <th>fico</th>\n",
       "      <th>dti</th>\n",
       "      <th>annual_income</th>\n",
       "      <th>income_verification</th>\n",
       "      <th>home_mortgage</th>\n",
       "      <th>home_own</th>\n",
       "      <th>home_rent</th>\n",
       "      <th>debt_consolidation</th>\n",
       "      <th>coborrower</th>\n",
       "      <th>num_accounts</th>\n",
       "      <th>revol_bal</th>\n",
       "      <th>revol_util</th>\n",
       "      <th>derogatory_records</th>\n",
       "      <th>loan_default</th>\n",
       "    </tr>\n",
       "  </thead>\n",
       "  <tbody>\n",
       "    <tr>\n",
       "      <th>0</th>\n",
       "      <td>7.200</td>\n",
       "      <td>3.0</td>\n",
       "      <td>5.32</td>\n",
       "      <td>750</td>\n",
       "      <td>19.05</td>\n",
       "      <td>49.0</td>\n",
       "      <td>0</td>\n",
       "      <td>1</td>\n",
       "      <td>0</td>\n",
       "      <td>0</td>\n",
       "      <td>1</td>\n",
       "      <td>0</td>\n",
       "      <td>11</td>\n",
       "      <td>9.309</td>\n",
       "      <td>18.4</td>\n",
       "      <td>0</td>\n",
       "      <td>0</td>\n",
       "    </tr>\n",
       "    <tr>\n",
       "      <th>1</th>\n",
       "      <td>12.000</td>\n",
       "      <td>5.0</td>\n",
       "      <td>11.99</td>\n",
       "      <td>670</td>\n",
       "      <td>6.59</td>\n",
       "      <td>49.0</td>\n",
       "      <td>0</td>\n",
       "      <td>1</td>\n",
       "      <td>0</td>\n",
       "      <td>0</td>\n",
       "      <td>0</td>\n",
       "      <td>0</td>\n",
       "      <td>10</td>\n",
       "      <td>12.152</td>\n",
       "      <td>50.6</td>\n",
       "      <td>0</td>\n",
       "      <td>1</td>\n",
       "    </tr>\n",
       "    <tr>\n",
       "      <th>2</th>\n",
       "      <td>11.425</td>\n",
       "      <td>3.0</td>\n",
       "      <td>19.53</td>\n",
       "      <td>730</td>\n",
       "      <td>35.56</td>\n",
       "      <td>26.0</td>\n",
       "      <td>0</td>\n",
       "      <td>0</td>\n",
       "      <td>0</td>\n",
       "      <td>1</td>\n",
       "      <td>0</td>\n",
       "      <td>0</td>\n",
       "      <td>11</td>\n",
       "      <td>2.096</td>\n",
       "      <td>7.2</td>\n",
       "      <td>0</td>\n",
       "      <td>0</td>\n",
       "    </tr>\n",
       "    <tr>\n",
       "      <th>3</th>\n",
       "      <td>17.500</td>\n",
       "      <td>3.0</td>\n",
       "      <td>13.67</td>\n",
       "      <td>665</td>\n",
       "      <td>38.29</td>\n",
       "      <td>46.0</td>\n",
       "      <td>0</td>\n",
       "      <td>0</td>\n",
       "      <td>0</td>\n",
       "      <td>1</td>\n",
       "      <td>1</td>\n",
       "      <td>0</td>\n",
       "      <td>33</td>\n",
       "      <td>18.847</td>\n",
       "      <td>62.6</td>\n",
       "      <td>0</td>\n",
       "      <td>0</td>\n",
       "    </tr>\n",
       "    <tr>\n",
       "      <th>4</th>\n",
       "      <td>22.875</td>\n",
       "      <td>5.0</td>\n",
       "      <td>17.27</td>\n",
       "      <td>670</td>\n",
       "      <td>11.75</td>\n",
       "      <td>65.0</td>\n",
       "      <td>0</td>\n",
       "      <td>0</td>\n",
       "      <td>0</td>\n",
       "      <td>1</td>\n",
       "      <td>1</td>\n",
       "      <td>0</td>\n",
       "      <td>6</td>\n",
       "      <td>25.200</td>\n",
       "      <td>90.0</td>\n",
       "      <td>0</td>\n",
       "      <td>0</td>\n",
       "    </tr>\n",
       "    <tr>\n",
       "      <th>...</th>\n",
       "      <td>...</td>\n",
       "      <td>...</td>\n",
       "      <td>...</td>\n",
       "      <td>...</td>\n",
       "      <td>...</td>\n",
       "      <td>...</td>\n",
       "      <td>...</td>\n",
       "      <td>...</td>\n",
       "      <td>...</td>\n",
       "      <td>...</td>\n",
       "      <td>...</td>\n",
       "      <td>...</td>\n",
       "      <td>...</td>\n",
       "      <td>...</td>\n",
       "      <td>...</td>\n",
       "      <td>...</td>\n",
       "      <td>...</td>\n",
       "    </tr>\n",
       "    <tr>\n",
       "      <th>405175</th>\n",
       "      <td>16.000</td>\n",
       "      <td>5.0</td>\n",
       "      <td>12.79</td>\n",
       "      <td>665</td>\n",
       "      <td>12.25</td>\n",
       "      <td>150.0</td>\n",
       "      <td>0</td>\n",
       "      <td>0</td>\n",
       "      <td>0</td>\n",
       "      <td>1</td>\n",
       "      <td>0</td>\n",
       "      <td>0</td>\n",
       "      <td>12</td>\n",
       "      <td>7.700</td>\n",
       "      <td>55.0</td>\n",
       "      <td>1</td>\n",
       "      <td>0</td>\n",
       "    </tr>\n",
       "    <tr>\n",
       "      <th>405176</th>\n",
       "      <td>24.000</td>\n",
       "      <td>5.0</td>\n",
       "      <td>12.79</td>\n",
       "      <td>665</td>\n",
       "      <td>19.61</td>\n",
       "      <td>95.0</td>\n",
       "      <td>0</td>\n",
       "      <td>1</td>\n",
       "      <td>0</td>\n",
       "      <td>0</td>\n",
       "      <td>0</td>\n",
       "      <td>0</td>\n",
       "      <td>5</td>\n",
       "      <td>49.431</td>\n",
       "      <td>84.4</td>\n",
       "      <td>0</td>\n",
       "      <td>0</td>\n",
       "    </tr>\n",
       "    <tr>\n",
       "      <th>405177</th>\n",
       "      <td>40.000</td>\n",
       "      <td>5.0</td>\n",
       "      <td>10.49</td>\n",
       "      <td>705</td>\n",
       "      <td>12.75</td>\n",
       "      <td>227.0</td>\n",
       "      <td>1</td>\n",
       "      <td>1</td>\n",
       "      <td>0</td>\n",
       "      <td>0</td>\n",
       "      <td>0</td>\n",
       "      <td>0</td>\n",
       "      <td>5</td>\n",
       "      <td>8.633</td>\n",
       "      <td>64.9</td>\n",
       "      <td>0</td>\n",
       "      <td>0</td>\n",
       "    </tr>\n",
       "    <tr>\n",
       "      <th>405178</th>\n",
       "      <td>24.000</td>\n",
       "      <td>5.0</td>\n",
       "      <td>14.49</td>\n",
       "      <td>660</td>\n",
       "      <td>18.30</td>\n",
       "      <td>110.0</td>\n",
       "      <td>0</td>\n",
       "      <td>0</td>\n",
       "      <td>0</td>\n",
       "      <td>1</td>\n",
       "      <td>1</td>\n",
       "      <td>0</td>\n",
       "      <td>10</td>\n",
       "      <td>17.641</td>\n",
       "      <td>68.1</td>\n",
       "      <td>1</td>\n",
       "      <td>1</td>\n",
       "    </tr>\n",
       "    <tr>\n",
       "      <th>405179</th>\n",
       "      <td>14.000</td>\n",
       "      <td>5.0</td>\n",
       "      <td>14.49</td>\n",
       "      <td>660</td>\n",
       "      <td>23.36</td>\n",
       "      <td>95.0</td>\n",
       "      <td>1</td>\n",
       "      <td>1</td>\n",
       "      <td>0</td>\n",
       "      <td>0</td>\n",
       "      <td>0</td>\n",
       "      <td>0</td>\n",
       "      <td>8</td>\n",
       "      <td>7.662</td>\n",
       "      <td>54.0</td>\n",
       "      <td>0</td>\n",
       "      <td>0</td>\n",
       "    </tr>\n",
       "  </tbody>\n",
       "</table>\n",
       "<p>405180 rows × 17 columns</p>\n",
       "</div>"
      ],
      "text/plain": [
       "        loan_amnt  loan_term  int_rate  fico    dti  annual_income  \\\n",
       "0           7.200        3.0      5.32   750  19.05           49.0   \n",
       "1          12.000        5.0     11.99   670   6.59           49.0   \n",
       "2          11.425        3.0     19.53   730  35.56           26.0   \n",
       "3          17.500        3.0     13.67   665  38.29           46.0   \n",
       "4          22.875        5.0     17.27   670  11.75           65.0   \n",
       "...           ...        ...       ...   ...    ...            ...   \n",
       "405175     16.000        5.0     12.79   665  12.25          150.0   \n",
       "405176     24.000        5.0     12.79   665  19.61           95.0   \n",
       "405177     40.000        5.0     10.49   705  12.75          227.0   \n",
       "405178     24.000        5.0     14.49   660  18.30          110.0   \n",
       "405179     14.000        5.0     14.49   660  23.36           95.0   \n",
       "\n",
       "        income_verification  home_mortgage  home_own  home_rent  \\\n",
       "0                         0              1         0          0   \n",
       "1                         0              1         0          0   \n",
       "2                         0              0         0          1   \n",
       "3                         0              0         0          1   \n",
       "4                         0              0         0          1   \n",
       "...                     ...            ...       ...        ...   \n",
       "405175                    0              0         0          1   \n",
       "405176                    0              1         0          0   \n",
       "405177                    1              1         0          0   \n",
       "405178                    0              0         0          1   \n",
       "405179                    1              1         0          0   \n",
       "\n",
       "        debt_consolidation  coborrower  num_accounts  revol_bal  revol_util  \\\n",
       "0                        1           0            11      9.309        18.4   \n",
       "1                        0           0            10     12.152        50.6   \n",
       "2                        0           0            11      2.096         7.2   \n",
       "3                        1           0            33     18.847        62.6   \n",
       "4                        1           0             6     25.200        90.0   \n",
       "...                    ...         ...           ...        ...         ...   \n",
       "405175                   0           0            12      7.700        55.0   \n",
       "405176                   0           0             5     49.431        84.4   \n",
       "405177                   0           0             5      8.633        64.9   \n",
       "405178                   1           0            10     17.641        68.1   \n",
       "405179                   0           0             8      7.662        54.0   \n",
       "\n",
       "        derogatory_records  loan_default  \n",
       "0                        0             0  \n",
       "1                        0             1  \n",
       "2                        0             0  \n",
       "3                        0             0  \n",
       "4                        0             0  \n",
       "...                    ...           ...  \n",
       "405175                   1             0  \n",
       "405176                   0             0  \n",
       "405177                   0             0  \n",
       "405178                   1             1  \n",
       "405179                   0             0  \n",
       "\n",
       "[405180 rows x 17 columns]"
      ]
     },
     "execution_count": 2,
     "metadata": {},
     "output_type": "execute_result"
    }
   ],
   "source": [
    "loans = pd.read_csv('loan_performance_data_2016.csv')\n",
    "loan_target = ['loan_default']\n",
    "loan_features = loans.drop('loan_default', axis = 1).columns.tolist()\n",
    "loans"
   ]
  },
  {
   "cell_type": "markdown",
   "metadata": {
    "deletable": false,
    "editable": false
   },
   "source": [
    "<div class = \"panel panel-primary\">\n",
    "    <div class = \"panel-heading\"> \n",
    "    <span style=\"color:white\"><b>Task 2</b>\n",
    "    </div>\n",
    "    <div class = \"panel-body\"> \n",
    "    Use the function <code>train_test_split()</code> from the <code>sklearn.model_selection</code> module to split <code>loans</code> into training and test datasets. Provide the function with 2 separate numpy arrays, storing the features and target separately (like we did in class). Additionally, set the following optional paramters for the function to the values listed below:\n",
    "    <ul>\n",
    "        <li><code>test_size = .2</code></li>\n",
    "        <li><code>random_state = 5622</code></li>\n",
    "    </ul>\n",
    "    <br>\n",
    "    The function should return 4 outputs, representing the features and target for the training and test datasets, and store them as numpy arrays in variables called <code>X_train</code>, <code>X_test</code>, <code>y_train</code>, and <code>y_test</code>. The training data should contain 80%, while the test data should contain 20%, of the original <code>loans</code> dataset. \n",
    "    <br><br>\n",
    "    <b>Convert the four numpy arrays into tensors, using the function <code>tf.convert_to_tensor()</code> from the tensorflow library.</b>\n",
    "    <br><br>\n",
    "    Check that each tensor shoud have the following shapes: \n",
    "    <ul>\n",
    "        <li><code>X_train.shape = (324144, 16)</code></li>\n",
    "        <li><code>X_test.shape = (81036, 16)</code></li>\n",
    "        <li><code>y_train.shape = (324144,)</code></li>\n",
    "        <li><code>y_test.shape = (81036,)</code></li>\n",
    "    </ul>\n",
    "    <p style=\"text-align:right;\">[15pts]</p>\n",
    "    </div>\n",
    "</div>"
   ]
  },
  {
   "cell_type": "code",
   "execution_count": 3,
   "metadata": {},
   "outputs": [],
   "source": [
    "X_train, X_test, y_train, y_test = train_test_split(\n",
    "    loans[loan_features], loans[loan_target], test_size = 0.20, random_state = 5622)"
   ]
  },
  {
   "cell_type": "code",
   "execution_count": 4,
   "metadata": {},
   "outputs": [],
   "source": [
    "X_train = tf.convert_to_tensor(X_train)"
   ]
  },
  {
   "cell_type": "code",
   "execution_count": 5,
   "metadata": {},
   "outputs": [],
   "source": [
    "X_test = tf.convert_to_tensor(X_test)"
   ]
  },
  {
   "cell_type": "code",
   "execution_count": 6,
   "metadata": {},
   "outputs": [],
   "source": [
    "y_train = tf.convert_to_tensor(y_train)"
   ]
  },
  {
   "cell_type": "code",
   "execution_count": 7,
   "metadata": {},
   "outputs": [],
   "source": [
    "y_test = tf.convert_to_tensor(y_test)"
   ]
  },
  {
   "cell_type": "code",
   "execution_count": 8,
   "metadata": {},
   "outputs": [
    {
     "data": {
      "text/plain": [
       "TensorShape([324144, 16])"
      ]
     },
     "execution_count": 8,
     "metadata": {},
     "output_type": "execute_result"
    }
   ],
   "source": [
    "X_train.shape"
   ]
  },
  {
   "cell_type": "code",
   "execution_count": 9,
   "metadata": {},
   "outputs": [
    {
     "data": {
      "text/plain": [
       "TensorShape([81036, 16])"
      ]
     },
     "execution_count": 9,
     "metadata": {},
     "output_type": "execute_result"
    }
   ],
   "source": [
    "X_test.shape"
   ]
  },
  {
   "cell_type": "code",
   "execution_count": 10,
   "metadata": {},
   "outputs": [
    {
     "data": {
      "text/plain": [
       "TensorShape([324144, 1])"
      ]
     },
     "execution_count": 10,
     "metadata": {},
     "output_type": "execute_result"
    }
   ],
   "source": [
    "y_train.shape"
   ]
  },
  {
   "cell_type": "code",
   "execution_count": 11,
   "metadata": {},
   "outputs": [
    {
     "data": {
      "text/plain": [
       "TensorShape([81036, 1])"
      ]
     },
     "execution_count": 11,
     "metadata": {},
     "output_type": "execute_result"
    }
   ],
   "source": [
    "y_test.shape "
   ]
  },
  {
   "cell_type": "markdown",
   "metadata": {
    "deletable": false,
    "editable": false
   },
   "source": [
    "<div class = \"panel panel-primary\">\n",
    "    <div class = \"panel-heading\"> \n",
    "    <span style=\"color:white\"><b>Task 3</b>\n",
    "    </div>\n",
    "    <div class = \"panel-body\"> \n",
    "    Create a neural network model with the following architecture (recall this is done using the tensor flow function <code>tf.keras.models.Sequential()</code>), and store this in a variable called <code>nnet_model_1</code>:\n",
    "    <ul>\n",
    "        <li>A normalization layer with means and standard deviations populated by the training data <code>X_train</code>. The tensorflow function to create the normalization layer is <code>tf.keras.layers.Normalization(axis = -1)</code> and the <code>.adapt()</code> method.</li>\n",
    "        <li>A hidden layer with 64 nodes and ReLU activation function. The tensorflow function to create a fully connected layer is <code>tf.keras.layers.Dense()</code> with <code>activation = 'relu'</code>.</li>\n",
    "        <li>A second hidden layer with 128 nodes and ReLU activation function.</li>\n",
    "        <li>An output layer with 1 node, since we are only interested in predicting the probability of loan defaults. We will not apply the sigmoid activation function yet, until after training is complete.</li>\n",
    "    </ul>\n",
    "    <p style=\"text-align:right;\">[15pts]</p>\n",
    "    </div>\n",
    "</div>"
   ]
  },
  {
   "cell_type": "code",
   "execution_count": 12,
   "metadata": {},
   "outputs": [],
   "source": [
    "normalization_layer = tf.keras.layers.Normalization(axis = -1)\n",
    "normalization_layer.adapt(X_train)\n",
    "\n",
    "nnet_model_1 = tf.keras.models.Sequential([\n",
    "    normalization_layer,\n",
    "    tf.keras.layers.Dense(64, activation = 'relu'),\n",
    "    tf.keras.layers.Dropout(0.05),\n",
    "    tf.keras.layers.Dense(128, activation = 'relu'),\n",
    "    tf.keras.layers.Dropout(0.05),\n",
    "    tf.keras.layers.Dense(1),\n",
    "])"
   ]
  },
  {
   "cell_type": "code",
   "execution_count": null,
   "metadata": {},
   "outputs": [],
   "source": []
  },
  {
   "cell_type": "markdown",
   "metadata": {
    "deletable": false,
    "editable": false
   },
   "source": [
    "<div class = \"panel panel-primary\">\n",
    "    <div class = \"panel-heading\"> \n",
    "    <span style=\"color:white\"><b>Task 4</b>\n",
    "    </div>\n",
    "    <div class = \"panel-body\"> \n",
    "    Configure the tensorflow model compilier for <code>nnet_model_1</code>, which will facilitate the training of our nueral network. Recall that this is done by calling the <code>.compile()</code> method of the neural network model object. \n",
    "    <br><br>\n",
    "    The two parameters we will need to configure in are:\n",
    "    <ul>\n",
    "        <li><code>loss</code>: Since we are training a classification model to make binary class predictions, the tensorflow loss function to use here is <code>tf.keras.losses.BinaryCrossentropy(from_logits = True)</code> (Recall that this is equivalent to log-likelihood). </li>\n",
    "        <li><code>optimizer</code>: Set Stochastic Gradient Decent (SGD) as the optimizer (tensorflow function is <code>ts.keras.optimizers.SGD()</code>. Set the learning rate equal to 0.1.</li>\n",
    "    </ul>\n",
    "    <p style=\"text-align:right;\">[20pts]</p>\n",
    "    </div>\n",
    "</div>"
   ]
  },
  {
   "cell_type": "code",
   "execution_count": 13,
   "metadata": {},
   "outputs": [],
   "source": [
    "loss_fx = tf.keras.losses.BinaryCrossentropy(from_logits = True)\n",
    "opt = tf.keras.optimizers.SGD(learning_rate = .1)\n",
    "\n",
    "nnet_model_1.compile(optimizer = opt, loss = loss_fx)"
   ]
  },
  {
   "attachments": {
    "Task_5_Plot-2.PNG": {
     "image/png": "[encoded data removed]"
    }
   },
   "cell_type": "markdown",
   "metadata": {
    "deletable": false,
    "editable": false
   },
   "source": [
    "<div class = \"panel panel-primary\">\n",
    "    <div class = \"panel-heading\"> \n",
    "    <span style=\"color:white\"><b>Task 5</b>\n",
    "    </div>\n",
    "    <div class = \"panel-body\"> \n",
    "     Train the neural network. Recall that this is done by calling the <code>.fit()</code> method of the neural network model object. Provide the method with the training data (<code>X_train</code> and <code>y_train</code>), as well as the following additional parameters:\n",
    "    <ul>\n",
    "        <li><code>validation_data = (X_test, y_test)</code>: this allows for the evaluation of model performance on the test data during training.</li>\n",
    "        <li><code>epochs = 10</code>: trains the model on 10 passes of the training data.</li>\n",
    "        <li><code>shuffle = True</code>: shuffles the training data in between each epoch.</li>\n",
    "        <li><code>batch_size = 100</code>: sets the batch size to 100 samples under each iteration.</li>\n",
    "    </ul>\n",
    "    Plot both the training loss and test loss on a single line plot. Label the axes and provide a legend. Your plot should look similar to below:\n",
    "\n",
    "![Task_5_Plot-2.PNG](attachment:Task_5_Plot-2.PNG)\n",
    "    <br>\n",
    "    Based on the plot of training and test loss, did the neural network successful learn from the training data?\n",
    "    <p style=\"text-align:right;\">[20pts]</p>\n",
    "    </div>\n",
    "</div>"
   ]
  },
  {
   "cell_type": "code",
   "execution_count": 14,
   "metadata": {},
   "outputs": [
    {
     "name": "stdout",
     "output_type": "stream",
     "text": [
      "Epoch 1/10\n",
      "3242/3242 [==============================] - 14s 3ms/step - loss: 0.4516 - val_loss: 0.4453\n",
      "Epoch 2/10\n",
      "3242/3242 [==============================] - 11s 3ms/step - loss: 0.4487 - val_loss: 0.4447\n",
      "Epoch 3/10\n",
      "3242/3242 [==============================] - 11s 3ms/step - loss: 0.4481 - val_loss: 0.4445\n",
      "Epoch 4/10\n",
      "3242/3242 [==============================] - 9s 3ms/step - loss: 0.4477 - val_loss: 0.4447\n",
      "Epoch 5/10\n",
      "3242/3242 [==============================] - 8s 3ms/step - loss: 0.4474 - val_loss: 0.4442\n",
      "Epoch 6/10\n",
      "3242/3242 [==============================] - 8s 3ms/step - loss: 0.4472 - val_loss: 0.4447\n",
      "Epoch 7/10\n",
      "3242/3242 [==============================] - 8s 3ms/step - loss: 0.4469 - val_loss: 0.4441\n",
      "Epoch 8/10\n",
      "3242/3242 [==============================] - 9s 3ms/step - loss: 0.4467 - val_loss: 0.4444\n",
      "Epoch 9/10\n",
      "3242/3242 [==============================] - 8s 3ms/step - loss: 0.4468 - val_loss: 0.4443\n",
      "Epoch 10/10\n",
      "3242/3242 [==============================] - 8s 3ms/step - loss: 0.4465 - val_loss: 0.4442\n"
     ]
    }
   ],
   "source": [
    "history = nnet_model_1.fit(X_train, y_train, validation_data = (X_test, y_test), epochs = 10,\n",
    "                          shuffle = True, batch_size = 100)"
   ]
  },
  {
   "cell_type": "code",
   "execution_count": 15,
   "metadata": {},
   "outputs": [
    {
     "data": {
      "image/png": "[encoded data removed]",
      "text/plain": [
       "<Figure size 432x288 with 1 Axes>"
      ]
     },
     "metadata": {
      "needs_background": "light"
     },
     "output_type": "display_data"
    }
   ],
   "source": [
    "plt.plot(history.history['loss'], label = 'loss')\n",
    "plt.plot(history.history['val_loss'], label = 'val_loss')\n",
    "plt.xlabel('Epoch')\n",
    "plt.ylabel('Loss')\n",
    "plt.legend()\n",
    "plt.show()"
   ]
  },
  {
   "cell_type": "markdown",
   "metadata": {},
   "source": [
    "Based on the plot of training and test loss, the neural network was successful in learning from the training data as the loss and val_loss values conitnue to get closer to one another with each successive epoch. \n"
   ]
  },
  {
   "cell_type": "markdown",
   "metadata": {
    "deletable": false,
    "editable": false
   },
   "source": [
    "<div class = \"panel panel-primary\">\n",
    "    <div class = \"panel-heading\"> \n",
    "    <span style=\"color:white\"><b>Task 6</b>\n",
    "    </div>\n",
    "    <div class = \"panel-body\"> \n",
    "    Calculate and store the predictions from the neural network <code>nnet_model_1</code> on the test dataset <code>X_test</code> in a variable called <code>pred_1</code>. \n",
    "    <br><br>\n",
    "    Because the last layer of the neural network <code>nnet_model_1</code> is still a dense layer, the outputs of the model are still logits (linear combination of the output layer weights and last hidden layer features). Transform <code>pred_1</code> into probabilities using the tensorflow function <code>tf.nn.sigmoid()</code>. <b>Store this as a numpy array in a variable called <code>prob_1</code>.</b>\n",
    "    <br><br>\n",
    "    Recall, use the <code>.numpy()</code> method to turn tensors into numpy arrays.\n",
    "    <p style=\"text-align:right;\">[15pts]</p>\n",
    "    </div>\n",
    "</div>"
   ]
  },
  {
   "cell_type": "code",
   "execution_count": 16,
   "metadata": {},
   "outputs": [
    {
     "data": {
      "text/plain": [
       "array([[0.2271218 ],\n",
       "       [0.22786453],\n",
       "       [0.31272572],\n",
       "       ...,\n",
       "       [0.10830709],\n",
       "       [0.23444769],\n",
       "       [0.18252414]], dtype=float32)"
      ]
     },
     "execution_count": 16,
     "metadata": {},
     "output_type": "execute_result"
    }
   ],
   "source": [
    "pred_1 = nnet_model_1(X_test)\n",
    "prob_1 = tf.nn.sigmoid(pred_1).numpy()\n",
    "prob_1"
   ]
  },
  {
   "cell_type": "markdown",
   "metadata": {},
   "source": [
    "*Your written response here*\n",
    "\n",
    "\n"
   ]
  },
  {
   "cell_type": "markdown",
   "metadata": {
    "deletable": false,
    "editable": false
   },
   "source": [
    "<div class = \"panel panel-primary\">\n",
    "    <div class = \"panel-heading\"> \n",
    "    <span style=\"color:white\"><b>Task 7</b>\n",
    "    </div>\n",
    "    <div class = \"panel-body\"> \n",
    "    Calculate the ROC curve and the AUC for <code>probs_1</code>. Recall that the ROC curve can be calculated using the function <code>roc_curve()</code>, and the AUC can be calculated using the function <code>roc_auc_score()</code>. Both functions are from the <code>sklearn.metrics</code> module.\n",
    "    <br><br>\n",
    "    Plot the ROC curve on a line plot. Recall that the ROC curve should be a upward-sloping and concaved curve above the 45-degree line. Provide axis labels and a title for the plot.\n",
    "    <p style=\"text-align:right;\">[15pts]</p>\n",
    "    </div>\n",
    "</div>"
   ]
  },
  {
   "cell_type": "code",
   "execution_count": 17,
   "metadata": {},
   "outputs": [
    {
     "data": {
      "image/png": "[encoded data removed]",
      "text/plain": [
       "<Figure size 432x288 with 1 Axes>"
      ]
     },
     "metadata": {
      "needs_background": "light"
     },
     "output_type": "display_data"
    }
   ],
   "source": [
    "fpr, tpr, th = roc_curve(y_test, prob_1)\n",
    "\n",
    "plt.plot(fpr, tpr)\n",
    "plt.plot(fpr, fpr, linestyle = '--', color = 'black')\n",
    "plt.ylabel('TPR')\n",
    "plt.xlabel('FPR')\n",
    "plt.title('ROC')\n",
    "plt.show()"
   ]
  },
  {
   "cell_type": "code",
   "execution_count": 18,
   "metadata": {},
   "outputs": [
    {
     "data": {
      "text/plain": [
       "0.7190588091599402"
      ]
     },
     "execution_count": 18,
     "metadata": {},
     "output_type": "execute_result"
    }
   ],
   "source": [
    "roc_auc_score(y_test, prob_1)"
   ]
  },
  {
   "cell_type": "code",
   "execution_count": 19,
   "metadata": {},
   "outputs": [
    {
     "data": {
      "text/plain": [
       "(0.20025562, 0.1950614541685177)"
      ]
     },
     "execution_count": 19,
     "metadata": {},
     "output_type": "execute_result"
    }
   ],
   "source": [
    "prob_1.mean(), y_test.numpy().mean()"
   ]
  },
  {
   "cell_type": "markdown",
   "metadata": {
    "deletable": false,
    "editable": false
   },
   "source": [
    "<div class = \"panel panel-primary\">\n",
    "    <div class = \"panel-heading\"> \n",
    "    <span style=\"color:white\"><b>Extra Credit</b>\n",
    "    </div>\n",
    "    <div class = \"panel-body\"> \n",
    "    Create a neural network model with the following architecture and store this in a variable called <code>nnet_model_2</code>:\n",
    "    <ul>\n",
    "        <li>A normalization layer with means and standard deviations populated by the training data <code>X_train</code>.</li>\n",
    "        <li>A hidden layer with 128 nodes and ReLU activation function, and apply dropout with 10% probability.</li>\n",
    "        <li>A second hidden layer with 256 nodes and ReLU activation function, and apply dropout with 10% probability.</li>\n",
    "        <li>A third hidden layer with 256 nodes and ReLU activation function, and apply dropout with 10% probability.</li>\n",
    "        <li>An output layer with 1 node, since we are only interested in predicting the probability of loan defaults. We will not apply the sigmoid activation function yet, until after training is complete.</li>\n",
    "    </ul>\n",
    "    Configure the tensorflow model compilier for <code>nnet_model_2</code>, with the following specifications:\n",
    "    <ul>\n",
    "        <li><code>loss</code>: <code>tf.keras.losses.BinaryCrossentropy(from_logits = True)</code></li>\n",
    "        <li><code>optimizer</code>: Use the Adam Optimization Algorithm as the optimizer (tensorflow function is <code>ts.keras.optimizers.Adam()</code>. Set the learning rate equal to 0.001.</li>\n",
    "    </ul>\n",
    "    Train the neural network on the training data (<code>X_train</code> and <code>y_train</code>). Set the following additional parameters in the <code>.fit()</code> method:\n",
    "    <ul>\n",
    "        <li><code>validation_data = (X_test, y_test)</code>: this allows for the evaluation of model performance on the test data during training.</li>\n",
    "        <li><code>epochs = 20</code></li>\n",
    "        <li><code>shuffle = True</code></li>\n",
    "        <li><code>batch_size = 100</code></li>\n",
    "    </ul>\n",
    "    Plot both the training loss and test loss on a single line plot. Label the axes and provide a legend.\n",
    "    <br><br>\n",
    "    Use <code>nnet_model_2</code> to calculate the predicted probabilities of default for the test data (use a sigmoid activation function), and store those predictions in a variable called <code>probs_2</code>. Calculate the ROC curve and the AUC for <code>probs_2</code>, and plot the ROC curve on a line plot. Provide axis labels and a title for the plot.\n",
    "    <br><br>\n",
    "    Did <code>nnet_model_2</code> outperform <code>nnet_model_1</code>?\n",
    "    <p style=\"text-align:right;\">[20pts]</p>\n",
    "    </div>\n",
    "</div>"
   ]
  },
  {
   "cell_type": "code",
   "execution_count": null,
   "metadata": {},
   "outputs": [],
   "source": []
  },
  {
   "cell_type": "code",
   "execution_count": null,
   "metadata": {},
   "outputs": [],
   "source": []
  }
 ],
 "metadata": {
  "kernelspec": {
   "display_name": "Python 3",
   "language": "python",
   "name": "python3"
  },
  "language_info": {
   "codemirror_mode": {
    "name": "ipython",
    "version": 3
   },
   "file_extension": ".py",
   "mimetype": "text/x-python",
   "name": "python",
   "nbconvert_exporter": "python",
   "pygments_lexer": "ipython3",
   "version": "3.8.8"
  }
 },
 "nbformat": 4,
 "nbformat_minor": 2
}
