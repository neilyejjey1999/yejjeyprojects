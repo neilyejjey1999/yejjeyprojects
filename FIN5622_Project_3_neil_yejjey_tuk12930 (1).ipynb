{
 "cells": [
  {
   "cell_type": "markdown",
   "metadata": {
    "deletable": false,
    "editable": false
   },
   "source": [
    "<h2>FIN5622 Project #3\n",
    "    <p class=\"text-primary\">Loan Default Prediction with Random Forests</p>\n",
    "</h2>"
   ]
  },
  {
   "cell_type": "markdown",
   "metadata": {
    "deletable": false,
    "editable": false
   },
   "source": [
    "<div class = \"panel panel-success\">\n",
    "    <div class = \"panel-heading\"> \n",
    "    <span style=\"color:black\"><b>Project Introduction</b>\n",
    "    </div>\n",
    "    <div class = \"panel-body\"> \n",
    "    In this project we will build a random forest model to predict borrower defaults on a set of loan performance data.\n",
    "    </div>\n",
    "</div>\n",
    "\n",
    "<div class = \"panel panel-info\">\n",
    "    <div class = \"panel-heading\"> \n",
    "    <span style=\"color:black\"><b>Instructions</b>\n",
    "    </div>\n",
    "    <div class = \"panel-body\"> \n",
    "    Please code you solutions directly in this Notebook under each task in the cells provided below. Tasks are intended to be done in order with results from one task informing work in later tasks. Include all code used to produce your results, and support your answers with textual explanations if neccessary. <b>Any written text must be typed in a markdown cell to receive credit!</b> You may feel free to add additional Code and/or Markdown cells as needed. Code must be written using <b>Python 3</b>.\n",
    "    <br><br>Please order the cells in your Notebook in the order in which they are intended to run! It is expected that your Notebook is able to run in sequence from start to finish without any errors (before submitting check by: <code>Kernel > Restart & Run All</code>).\n",
    "    <br><br>Once ready, please submit your assignment as an <b>.ipynb file</b> (<code>File > Download as > Notebook</code>). You must name your files in the following format: <b><code>FIN5622_Project_3_Richard_Lee_tuc12345.ipynb</code></b>.\n",
    "    </div>\n",
    "</div>\n",
    "\n",
    "---\n",
    "<div class = \"alert alert-block alert-warning\">\n",
    "    <b>Note</b>: Import all libraries that you plan on using in the code block below.\n",
    "</div>"
   ]
  },
  {
   "cell_type": "code",
   "execution_count": 1,
   "metadata": {},
   "outputs": [],
   "source": [
    "import pandas as pd\n",
    "import numpy as np\n",
    "import matplotlib.pyplot as plt\n",
    "\n",
    "from sklearn.model_selection import train_test_split\n",
    "from sklearn.ensemble import RandomForestClassifier\n",
    "from sklearn.metrics import roc_curve, roc_auc_score"
   ]
  },
  {
   "cell_type": "markdown",
   "metadata": {
    "deletable": false,
    "editable": false
   },
   "source": [
    "<div class = \"panel panel-primary\">\n",
    "    <div class = \"panel-heading\"> \n",
    "    <span style=\"color:white\"><b>Task 1</b>\n",
    "    </div>\n",
    "    <div class = \"panel-body\"> \n",
    "    Read in the dataset \"loan_performance_data_2016.csv\" into a dataframe called <code>loans</code> using the pandas <code>pd.read_csv()</code> function. Check that there are 405,180 loans present in the dataframe.\n",
    "    <br><br>\n",
    "    Note that there are 16 feature columns and 1 target column (i.e. \"loan_default\") in this dataset. Please review the file \"Loan_Data_Dictionary.xlsx\" for definitions on each column.\n",
    "    <p style=\"text-align:right;\">[0pts]</p>\n",
    "    </div>\n",
    "</div>"
   ]
  },
  {
   "cell_type": "code",
   "execution_count": 2,
   "metadata": {},
   "outputs": [
    {
     "data": {
      "text/html": [
       "<div>\n",
       "<style scoped>\n",
       "    .dataframe tbody tr th:only-of-type {\n",
       "        vertical-align: middle;\n",
       "    }\n",
       "\n",
       "    .dataframe tbody tr th {\n",
       "        vertical-align: top;\n",
       "    }\n",
       "\n",
       "    .dataframe thead th {\n",
       "        text-align: right;\n",
       "    }\n",
       "</style>\n",
       "<table border=\"1\" class=\"dataframe\">\n",
       "  <thead>\n",
       "    <tr style=\"text-align: right;\">\n",
       "      <th></th>\n",
       "      <th>loan_amnt</th>\n",
       "      <th>loan_term</th>\n",
       "      <th>int_rate</th>\n",
       "      <th>fico</th>\n",
       "      <th>dti</th>\n",
       "      <th>annual_income</th>\n",
       "      <th>income_verification</th>\n",
       "      <th>home_mortgage</th>\n",
       "      <th>home_own</th>\n",
       "      <th>home_rent</th>\n",
       "      <th>debt_consolidation</th>\n",
       "      <th>coborrower</th>\n",
       "      <th>num_accounts</th>\n",
       "      <th>revol_bal</th>\n",
       "      <th>revol_util</th>\n",
       "      <th>derogatory_records</th>\n",
       "      <th>loan_default</th>\n",
       "    </tr>\n",
       "  </thead>\n",
       "  <tbody>\n",
       "    <tr>\n",
       "      <th>0</th>\n",
       "      <td>7.200</td>\n",
       "      <td>3.0</td>\n",
       "      <td>5.32</td>\n",
       "      <td>750</td>\n",
       "      <td>19.05</td>\n",
       "      <td>49.0</td>\n",
       "      <td>0</td>\n",
       "      <td>1</td>\n",
       "      <td>0</td>\n",
       "      <td>0</td>\n",
       "      <td>1</td>\n",
       "      <td>0</td>\n",
       "      <td>11</td>\n",
       "      <td>9.309</td>\n",
       "      <td>18.4</td>\n",
       "      <td>0</td>\n",
       "      <td>0</td>\n",
       "    </tr>\n",
       "    <tr>\n",
       "      <th>1</th>\n",
       "      <td>12.000</td>\n",
       "      <td>5.0</td>\n",
       "      <td>11.99</td>\n",
       "      <td>670</td>\n",
       "      <td>6.59</td>\n",
       "      <td>49.0</td>\n",
       "      <td>0</td>\n",
       "      <td>1</td>\n",
       "      <td>0</td>\n",
       "      <td>0</td>\n",
       "      <td>0</td>\n",
       "      <td>0</td>\n",
       "      <td>10</td>\n",
       "      <td>12.152</td>\n",
       "      <td>50.6</td>\n",
       "      <td>0</td>\n",
       "      <td>1</td>\n",
       "    </tr>\n",
       "    <tr>\n",
       "      <th>2</th>\n",
       "      <td>11.425</td>\n",
       "      <td>3.0</td>\n",
       "      <td>19.53</td>\n",
       "      <td>730</td>\n",
       "      <td>35.56</td>\n",
       "      <td>26.0</td>\n",
       "      <td>0</td>\n",
       "      <td>0</td>\n",
       "      <td>0</td>\n",
       "      <td>1</td>\n",
       "      <td>0</td>\n",
       "      <td>0</td>\n",
       "      <td>11</td>\n",
       "      <td>2.096</td>\n",
       "      <td>7.2</td>\n",
       "      <td>0</td>\n",
       "      <td>0</td>\n",
       "    </tr>\n",
       "    <tr>\n",
       "      <th>3</th>\n",
       "      <td>17.500</td>\n",
       "      <td>3.0</td>\n",
       "      <td>13.67</td>\n",
       "      <td>665</td>\n",
       "      <td>38.29</td>\n",
       "      <td>46.0</td>\n",
       "      <td>0</td>\n",
       "      <td>0</td>\n",
       "      <td>0</td>\n",
       "      <td>1</td>\n",
       "      <td>1</td>\n",
       "      <td>0</td>\n",
       "      <td>33</td>\n",
       "      <td>18.847</td>\n",
       "      <td>62.6</td>\n",
       "      <td>0</td>\n",
       "      <td>0</td>\n",
       "    </tr>\n",
       "    <tr>\n",
       "      <th>4</th>\n",
       "      <td>22.875</td>\n",
       "      <td>5.0</td>\n",
       "      <td>17.27</td>\n",
       "      <td>670</td>\n",
       "      <td>11.75</td>\n",
       "      <td>65.0</td>\n",
       "      <td>0</td>\n",
       "      <td>0</td>\n",
       "      <td>0</td>\n",
       "      <td>1</td>\n",
       "      <td>1</td>\n",
       "      <td>0</td>\n",
       "      <td>6</td>\n",
       "      <td>25.200</td>\n",
       "      <td>90.0</td>\n",
       "      <td>0</td>\n",
       "      <td>0</td>\n",
       "    </tr>\n",
       "    <tr>\n",
       "      <th>...</th>\n",
       "      <td>...</td>\n",
       "      <td>...</td>\n",
       "      <td>...</td>\n",
       "      <td>...</td>\n",
       "      <td>...</td>\n",
       "      <td>...</td>\n",
       "      <td>...</td>\n",
       "      <td>...</td>\n",
       "      <td>...</td>\n",
       "      <td>...</td>\n",
       "      <td>...</td>\n",
       "      <td>...</td>\n",
       "      <td>...</td>\n",
       "      <td>...</td>\n",
       "      <td>...</td>\n",
       "      <td>...</td>\n",
       "      <td>...</td>\n",
       "    </tr>\n",
       "    <tr>\n",
       "      <th>405175</th>\n",
       "      <td>16.000</td>\n",
       "      <td>5.0</td>\n",
       "      <td>12.79</td>\n",
       "      <td>665</td>\n",
       "      <td>12.25</td>\n",
       "      <td>150.0</td>\n",
       "      <td>0</td>\n",
       "      <td>0</td>\n",
       "      <td>0</td>\n",
       "      <td>1</td>\n",
       "      <td>0</td>\n",
       "      <td>0</td>\n",
       "      <td>12</td>\n",
       "      <td>7.700</td>\n",
       "      <td>55.0</td>\n",
       "      <td>1</td>\n",
       "      <td>0</td>\n",
       "    </tr>\n",
       "    <tr>\n",
       "      <th>405176</th>\n",
       "      <td>24.000</td>\n",
       "      <td>5.0</td>\n",
       "      <td>12.79</td>\n",
       "      <td>665</td>\n",
       "      <td>19.61</td>\n",
       "      <td>95.0</td>\n",
       "      <td>0</td>\n",
       "      <td>1</td>\n",
       "      <td>0</td>\n",
       "      <td>0</td>\n",
       "      <td>0</td>\n",
       "      <td>0</td>\n",
       "      <td>5</td>\n",
       "      <td>49.431</td>\n",
       "      <td>84.4</td>\n",
       "      <td>0</td>\n",
       "      <td>0</td>\n",
       "    </tr>\n",
       "    <tr>\n",
       "      <th>405177</th>\n",
       "      <td>40.000</td>\n",
       "      <td>5.0</td>\n",
       "      <td>10.49</td>\n",
       "      <td>705</td>\n",
       "      <td>12.75</td>\n",
       "      <td>227.0</td>\n",
       "      <td>1</td>\n",
       "      <td>1</td>\n",
       "      <td>0</td>\n",
       "      <td>0</td>\n",
       "      <td>0</td>\n",
       "      <td>0</td>\n",
       "      <td>5</td>\n",
       "      <td>8.633</td>\n",
       "      <td>64.9</td>\n",
       "      <td>0</td>\n",
       "      <td>0</td>\n",
       "    </tr>\n",
       "    <tr>\n",
       "      <th>405178</th>\n",
       "      <td>24.000</td>\n",
       "      <td>5.0</td>\n",
       "      <td>14.49</td>\n",
       "      <td>660</td>\n",
       "      <td>18.30</td>\n",
       "      <td>110.0</td>\n",
       "      <td>0</td>\n",
       "      <td>0</td>\n",
       "      <td>0</td>\n",
       "      <td>1</td>\n",
       "      <td>1</td>\n",
       "      <td>0</td>\n",
       "      <td>10</td>\n",
       "      <td>17.641</td>\n",
       "      <td>68.1</td>\n",
       "      <td>1</td>\n",
       "      <td>1</td>\n",
       "    </tr>\n",
       "    <tr>\n",
       "      <th>405179</th>\n",
       "      <td>14.000</td>\n",
       "      <td>5.0</td>\n",
       "      <td>14.49</td>\n",
       "      <td>660</td>\n",
       "      <td>23.36</td>\n",
       "      <td>95.0</td>\n",
       "      <td>1</td>\n",
       "      <td>1</td>\n",
       "      <td>0</td>\n",
       "      <td>0</td>\n",
       "      <td>0</td>\n",
       "      <td>0</td>\n",
       "      <td>8</td>\n",
       "      <td>7.662</td>\n",
       "      <td>54.0</td>\n",
       "      <td>0</td>\n",
       "      <td>0</td>\n",
       "    </tr>\n",
       "  </tbody>\n",
       "</table>\n",
       "<p>405180 rows × 17 columns</p>\n",
       "</div>"
      ],
      "text/plain": [
       "        loan_amnt  loan_term  int_rate  fico    dti  annual_income  \\\n",
       "0           7.200        3.0      5.32   750  19.05           49.0   \n",
       "1          12.000        5.0     11.99   670   6.59           49.0   \n",
       "2          11.425        3.0     19.53   730  35.56           26.0   \n",
       "3          17.500        3.0     13.67   665  38.29           46.0   \n",
       "4          22.875        5.0     17.27   670  11.75           65.0   \n",
       "...           ...        ...       ...   ...    ...            ...   \n",
       "405175     16.000        5.0     12.79   665  12.25          150.0   \n",
       "405176     24.000        5.0     12.79   665  19.61           95.0   \n",
       "405177     40.000        5.0     10.49   705  12.75          227.0   \n",
       "405178     24.000        5.0     14.49   660  18.30          110.0   \n",
       "405179     14.000        5.0     14.49   660  23.36           95.0   \n",
       "\n",
       "        income_verification  home_mortgage  home_own  home_rent  \\\n",
       "0                         0              1         0          0   \n",
       "1                         0              1         0          0   \n",
       "2                         0              0         0          1   \n",
       "3                         0              0         0          1   \n",
       "4                         0              0         0          1   \n",
       "...                     ...            ...       ...        ...   \n",
       "405175                    0              0         0          1   \n",
       "405176                    0              1         0          0   \n",
       "405177                    1              1         0          0   \n",
       "405178                    0              0         0          1   \n",
       "405179                    1              1         0          0   \n",
       "\n",
       "        debt_consolidation  coborrower  num_accounts  revol_bal  revol_util  \\\n",
       "0                        1           0            11      9.309        18.4   \n",
       "1                        0           0            10     12.152        50.6   \n",
       "2                        0           0            11      2.096         7.2   \n",
       "3                        1           0            33     18.847        62.6   \n",
       "4                        1           0             6     25.200        90.0   \n",
       "...                    ...         ...           ...        ...         ...   \n",
       "405175                   0           0            12      7.700        55.0   \n",
       "405176                   0           0             5     49.431        84.4   \n",
       "405177                   0           0             5      8.633        64.9   \n",
       "405178                   1           0            10     17.641        68.1   \n",
       "405179                   0           0             8      7.662        54.0   \n",
       "\n",
       "        derogatory_records  loan_default  \n",
       "0                        0             0  \n",
       "1                        0             1  \n",
       "2                        0             0  \n",
       "3                        0             0  \n",
       "4                        0             0  \n",
       "...                    ...           ...  \n",
       "405175                   1             0  \n",
       "405176                   0             0  \n",
       "405177                   0             0  \n",
       "405178                   1             1  \n",
       "405179                   0             0  \n",
       "\n",
       "[405180 rows x 17 columns]"
      ]
     },
     "execution_count": 2,
     "metadata": {},
     "output_type": "execute_result"
    }
   ],
   "source": [
    "loans = pd.read_csv(\"loan_performance_data_2016.csv\")\n",
    "loans"
   ]
  },
  {
   "cell_type": "markdown",
   "metadata": {
    "deletable": false,
    "editable": false
   },
   "source": [
    "<div class = \"panel panel-primary\">\n",
    "    <div class = \"panel-heading\"> \n",
    "    <span style=\"color:white\"><b>Task 2</b>\n",
    "    </div>\n",
    "    <div class = \"panel-body\"> \n",
    "    Use the function <code>train_test_split()</code> from the <code>sklearn.model_selection</code> module to split <code>loans</code> into training and test datasets. Provide the function with 2 separate numpy arrays, storing the features and target separately (like we did in class). Additionally, set the following optional paramters for the function to the values listed below:\n",
    "    <ul>\n",
    "        <li><code>test_size = .2</code></li>\n",
    "        <li><code>random_state = 5622</code></li>\n",
    "    </ul>\n",
    "    <br>\n",
    "    The function should return 4 outputs, representing the features and target for the training and test datasets, and store them as numpy arrays in variables called <code>X_train</code>, <code>X_test</code>, <code>y_train</code>, and <code>y_test</code>. The training data should contain 80%, while the test data should contain 20%, of the original <code>loans</code> dataset. \n",
    "    <br><br>\n",
    "    Check that each array shoud have the following shapes: \n",
    "    <ul>\n",
    "        <li><code>X_train.shape = (324144, 16)</code></li>\n",
    "        <li><code>X_test.shape = (81036, 16)</code></li>\n",
    "        <li><code>y_train.shape = (324144,)</code></li>\n",
    "        <li><code>y_test.shape = (81036,)</code></li>\n",
    "    </ul>\n",
    "    <p style=\"text-align:right;\">[15pts]</p>\n",
    "    </div>\n",
    "</div>"
   ]
  },
  {
   "cell_type": "code",
   "execution_count": 3,
   "metadata": {},
   "outputs": [
    {
     "data": {
      "text/plain": [
       "(['loan_amnt',\n",
       "  'loan_term',\n",
       "  'int_rate',\n",
       "  'fico',\n",
       "  'dti',\n",
       "  'annual_income',\n",
       "  'income_verification',\n",
       "  'home_mortgage',\n",
       "  'home_own',\n",
       "  'home_rent',\n",
       "  'debt_consolidation',\n",
       "  'coborrower',\n",
       "  'num_accounts',\n",
       "  'revol_bal',\n",
       "  'revol_util',\n",
       "  'derogatory_records'],\n",
       " ['loan_default'])"
      ]
     },
     "execution_count": 3,
     "metadata": {},
     "output_type": "execute_result"
    }
   ],
   "source": [
    "loan_target = [\"loan_default\"]\n",
    "loan_features = loans.drop(\"loan_default\", axis = 1).columns.tolist()\n",
    "loan_features, loan_target"
   ]
  },
  {
   "cell_type": "code",
   "execution_count": 4,
   "metadata": {},
   "outputs": [],
   "source": [
    "X_train, X_test, y_train, y_test = train_test_split(\n",
    "        loans[loan_features], loans[loan_target], test_size = .2 , random_state = 5622)"
   ]
  },
  {
   "cell_type": "code",
   "execution_count": 5,
   "metadata": {},
   "outputs": [
    {
     "data": {
      "text/plain": [
       "(324144, 16)"
      ]
     },
     "execution_count": 5,
     "metadata": {},
     "output_type": "execute_result"
    }
   ],
   "source": [
    "X_train.shape"
   ]
  },
  {
   "cell_type": "code",
   "execution_count": 6,
   "metadata": {},
   "outputs": [
    {
     "data": {
      "text/plain": [
       "(81036, 16)"
      ]
     },
     "execution_count": 6,
     "metadata": {},
     "output_type": "execute_result"
    }
   ],
   "source": [
    "X_test.shape"
   ]
  },
  {
   "cell_type": "code",
   "execution_count": 7,
   "metadata": {},
   "outputs": [
    {
     "data": {
      "text/plain": [
       "(324144, 1)"
      ]
     },
     "execution_count": 7,
     "metadata": {},
     "output_type": "execute_result"
    }
   ],
   "source": [
    "y_train.shape"
   ]
  },
  {
   "cell_type": "code",
   "execution_count": 8,
   "metadata": {},
   "outputs": [
    {
     "data": {
      "text/plain": [
       "(81036, 1)"
      ]
     },
     "execution_count": 8,
     "metadata": {},
     "output_type": "execute_result"
    }
   ],
   "source": [
    "y_test.shape"
   ]
  },
  {
   "cell_type": "markdown",
   "metadata": {
    "deletable": false,
    "editable": false
   },
   "source": [
    "<div class = \"panel panel-primary\">\n",
    "    <div class = \"panel-heading\"> \n",
    "    <span style=\"color:white\"><b>Task 3</b>\n",
    "    </div>\n",
    "    <div class = \"panel-body\"> \n",
    "    Fit a random forest model using the training dataset, <code>X_train</code> and <code>y_train</code>. Recall that this is done by calling <code>RandomForestClassifier()</code> from the <code>sklearn.ensemble</code> module, and using the <code>.fit()</code> method. Set <code>random_state = 5622</code> when initializing the random forest model. \n",
    "    <br><br>\n",
    "    We will accept all default settings for this first random forest model. Specifically, the random forest will include 10 decision tree classifiers, no limit for tree depth, and no minimum leaf size. Store the fitted model in a variable called <code>rf_model_1</code>.\n",
    "    </ul>\n",
    "    <p style=\"text-align:right;\">[15pts]</p>\n",
    "    </div>\n",
    "</div>"
   ]
  },
  {
   "cell_type": "code",
   "execution_count": 9,
   "metadata": {},
   "outputs": [],
   "source": [
    "rf_model_1 = RandomForestClassifier(n_estimators = 10, random_state = 5622).fit(X_train, y_train.squeeze())"
   ]
  },
  {
   "cell_type": "markdown",
   "metadata": {
    "deletable": false,
    "editable": false
   },
   "source": [
    "<div class = \"panel panel-primary\">\n",
    "    <div class = \"panel-heading\"> \n",
    "    <span style=\"color:white\"><b>Task 4</b>\n",
    "    </div>\n",
    "    <div class = \"panel-body\"> \n",
    "    Create a second random forest model, but changing the default settings to the below parameter values when calling <code>RandomForestClassifier()</code>: \n",
    "    <ul>\n",
    "        <li><code>n_estimators = 50</code></li>\n",
    "        <li><code>max_depth = 5</code></li>\n",
    "        <li><code>min_samples_leaf = 5</code></li>\n",
    "        <li><code>random_state = 5622</code></li>\n",
    "    </ul>\n",
    "    Fit the model using the <code>fit()</code> method on the training data, <code>X_train</code> and <code>y_train</code>, and save the model in a variable called <code>rf_model_2</code>.\n",
    "    <br><br>\n",
    "    Explain what each of the following parameters controls in the random forest model: \n",
    "    <ul>\n",
    "        <li><code>n_estimators</code></li>\n",
    "        <li><code>max_depth</code></li>\n",
    "        <li><code>min_samples_leaf</code></li>\n",
    "    </ul>\n",
    "    <p style=\"text-align:right;\">[20pts]</p>\n",
    "    </div>\n",
    "</div>"
   ]
  },
  {
   "cell_type": "code",
   "execution_count": 10,
   "metadata": {},
   "outputs": [],
   "source": [
    "rf_model_2 = RandomForestClassifier(n_estimators = 50, max_depth = 5, min_samples_leaf = 5, random_state = 5622).fit(X_train, y_train.squeeze())"
   ]
  },
  {
   "cell_type": "markdown",
   "metadata": {},
   "source": [
    "To begin, the n_estimators paramteter establishes/controls the number of trees in the forest. \n",
    "max_depths, meanwhile controls the maximum depth of the trees.  Finally, min_samples_leaf is the minimum number of samples requierd to split an internal code. "
   ]
  },
  {
   "cell_type": "markdown",
   "metadata": {
    "deletable": false,
    "editable": false
   },
   "source": [
    "<div class = \"panel panel-primary\">\n",
    "    <div class = \"panel-heading\"> \n",
    "    <span style=\"color:white\"><b>Task 5</b>\n",
    "    </div>\n",
    "    <div class = \"panel-body\"> \n",
    "     Assess the performance of both <code>rf_model_1</code> and <code>rf_model_2</code> on the test dataset <code>X_test</code> and <code>y_test</code> by:\n",
    "    <ul>\n",
    "        <li>Calculating the accuracy of the both model's predictions using the <code>.score()</code> method.</li>\n",
    "        <li>Comparing the mean predicted probability of default, using the <code>.predict_proba()</code> method, against the actual observed rate of default for both models.</li>\n",
    "        <li>Calculating the AUC for both models using the <code>roc_auc_score()</code> function from the <code>sklearn.metrics</code> module.</li>\n",
    "    <p style=\"text-align:right;\">[20pts]</p>\n",
    "    </div>\n",
    "</div>"
   ]
  },
  {
   "cell_type": "code",
   "execution_count": 11,
   "metadata": {},
   "outputs": [
    {
     "data": {
      "text/plain": [
       "0.9425761389999506"
      ]
     },
     "execution_count": 11,
     "metadata": {},
     "output_type": "execute_result"
    }
   ],
   "source": [
    "rf_model_1.score(loans[loan_features], loans[loan_target])"
   ]
  },
  {
   "cell_type": "code",
   "execution_count": 12,
   "metadata": {},
   "outputs": [
    {
     "data": {
      "text/plain": [
       "(0.2078890863320006,\n",
       " loan_default    0.195061\n",
       " dtype: float64)"
      ]
     },
     "execution_count": 12,
     "metadata": {},
     "output_type": "execute_result"
    }
   ],
   "source": [
    "rf_model_1.predict_proba(X_test)[:, 1].mean(), y_test.mean()"
   ]
  },
  {
   "cell_type": "code",
   "execution_count": 13,
   "metadata": {},
   "outputs": [],
   "source": [
    "y_prob_1 = rf_model_1.predict_proba(X_test)[:, 1]"
   ]
  },
  {
   "cell_type": "code",
   "execution_count": 14,
   "metadata": {},
   "outputs": [
    {
     "data": {
      "text/plain": [
       "0.6499845811865892"
      ]
     },
     "execution_count": 14,
     "metadata": {},
     "output_type": "execute_result"
    }
   ],
   "source": [
    "roc_auc_score(y_test, y_prob_1)"
   ]
  },
  {
   "cell_type": "code",
   "execution_count": 15,
   "metadata": {},
   "outputs": [
    {
     "data": {
      "text/plain": [
       "0.804119156917913"
      ]
     },
     "execution_count": 15,
     "metadata": {},
     "output_type": "execute_result"
    }
   ],
   "source": [
    "rf_model_2.score(loans[loan_features], loans[loan_target])"
   ]
  },
  {
   "cell_type": "code",
   "execution_count": 16,
   "metadata": {},
   "outputs": [
    {
     "data": {
      "text/plain": [
       "(0.19648078233427232,\n",
       " loan_default    0.195061\n",
       " dtype: float64)"
      ]
     },
     "execution_count": 16,
     "metadata": {},
     "output_type": "execute_result"
    }
   ],
   "source": [
    "rf_model_2.predict_proba(X_test)[:, 1].mean(), y_test.mean()"
   ]
  },
  {
   "cell_type": "code",
   "execution_count": 17,
   "metadata": {},
   "outputs": [],
   "source": [
    "y_prob_2 = rf_model_2.predict_proba(X_test)[:, 1]"
   ]
  },
  {
   "cell_type": "code",
   "execution_count": 18,
   "metadata": {},
   "outputs": [
    {
     "data": {
      "text/plain": [
       "0.7122833152969601"
      ]
     },
     "execution_count": 18,
     "metadata": {},
     "output_type": "execute_result"
    }
   ],
   "source": [
    "roc_auc_score(y_test, y_prob_2)"
   ]
  },
  {
   "cell_type": "markdown",
   "metadata": {
    "deletable": false,
    "editable": false
   },
   "source": [
    "<div class = \"panel panel-primary\">\n",
    "    <div class = \"panel-heading\"> \n",
    "    <span style=\"color:white\"><b>Task 6</b>\n",
    "    </div>\n",
    "    <div class = \"panel-body\"> \n",
    "    Review the performance assessment results calculated in the previous tasks for both models. \n",
    "    <br><br>\n",
    "    Which model, <code>rf_model_1</code> or <code>rf_model_2</code>, performed better under each of the performance metrics calculated in the previous task (accuracy, actual vs. expected default probability, and AUC)? Explain which model was expected to perform better and why.\n",
    "    <p style=\"text-align:right;\">[15pts]</p>\n",
    "    </div>\n",
    "</div>"
   ]
  },
  {
   "cell_type": "markdown",
   "metadata": {},
   "source": [
    "rf_model_1 a higher score than rf_model_2 in terms of accuracy with a score of 0.9425761389999506 compared to 0.804119156917913.  This is because there are less parameters established in the first model, creating a higher accuracy.  However, in terms of actual vs expected default probability, the rf_model_2 performs better (20.7% vs 19.6%), and auc score (71% vs 65%) due to the fact that it implements the max_depth function and the min_samples_leaf function, unlike rf_model_1.  These functions in the second model control the depth of the trees as well as establish the minimum number of samples required to split the internal code - which allows this model to be a more effective indicator of default probability and AUC score. \n"
   ]
  },
  {
   "attachments": {
    "Task_7_Plot.PNG": {
     "image/png": "[encoded data removed]"
    }
   },
   "cell_type": "markdown",
   "metadata": {
    "deletable": false,
    "editable": false
   },
   "source": [
    "<div class = \"panel panel-primary\">\n",
    "    <div class = \"panel-heading\"> \n",
    "    <span style=\"color:white\"><b>Task 7</b>\n",
    "    </div>\n",
    "    <div class = \"panel-body\"> \n",
    "    Calculate the ROC curve for both <code>rf_model_1</code> and <code>rf_model_2</code>. Recall that ROC curves can be created using the function <code>roc_curve()</code> from the <code>sklearn.metrics</code> module.\n",
    "    <br><br>\n",
    "    Plot both the ROC curves on a single line plot. Recall that the ROC curve should be a upward-sloping and concaved curve above the 45-degree line. Provide axis labels, a legend, and a title for the plot. \n",
    "    <br><br>\n",
    "    Your final plot should look like this:\n",
    "        \n",
    "![Task_7_Plot.PNG](attachment:Task_7_Plot.PNG)\n",
    "    <br>\n",
    "    Which model has better performance according to the ROC plot? Why?\n",
    "    <p style=\"text-align:right;\">[15pts]</p>\n",
    "    </div>\n",
    "</div>"
   ]
  },
  {
   "cell_type": "code",
   "execution_count": 19,
   "metadata": {},
   "outputs": [
    {
     "data": {
      "image/png": "[encoded data removed]",
      "text/plain": [
       "<Figure size 432x288 with 1 Axes>"
      ]
     },
     "metadata": {
      "needs_background": "light"
     },
     "output_type": "display_data"
    }
   ],
   "source": [
    "fpr, tpr, th = roc_curve(y_test, y_prob_1)\n",
    "fpr_2, tpr_2, th_2 = roc_curve(y_test, y_prob_2)\n",
    "\n",
    "plt.plot(fpr, tpr, label = \"rf_model_1\")\n",
    "plt.plot(fpr_2, tpr_2, label = \"rf_model_2\")\n",
    "plt.plot(fpr, fpr, linestyle = \"--\", color = \"green\")\n",
    "plt.ylabel(\"TPR\")\n",
    "plt.xlabel(\"FPR\")\n",
    "plt.title(\"Random Forest ROC Curves\")\n",
    "plt.legend()\n",
    "plt.show()"
   ]
  },
  {
   "cell_type": "markdown",
   "metadata": {},
   "source": [
    "rf_model_2 has better performance according to the ROC plot, thi i because rf_model_2 has a steeper curve.  By the ROC model,curves that are steeper towards the top left are better performers. "
   ]
  }
 ],
 "metadata": {
  "kernelspec": {
   "display_name": "Python 3 (ipykernel)",
   "language": "python",
   "name": "python3"
  },
  "language_info": {
   "codemirror_mode": {
    "name": "ipython",
    "version": 3
   },
   "file_extension": ".py",
   "mimetype": "text/x-python",
   "name": "python",
   "nbconvert_exporter": "python",
   "pygments_lexer": "ipython3",
   "version": "3.9.7"
  }
 },
 "nbformat": 4,
 "nbformat_minor": 2
}
