{
 "cells": [
  {
   "cell_type": "markdown",
   "metadata": {
    "deletable": false,
    "editable": false
   },
   "source": [
    "<h2>FIN5615 Project #5\n",
    "    <p class=\"text-primary\">Black Scholes Options Pricing (Part II)</p>\n",
    "</h2>"
   ]
  },
  {
   "cell_type": "markdown",
   "metadata": {
    "deletable": false,
    "editable": false
   },
   "source": [
    "<div class = \"panel panel-success\">\n",
    "    <div class = \"panel-heading\"> \n",
    "    <span style=\"color:black\"><b>Project Introduction</b>\n",
    "    </div>\n",
    "    <div class = \"panel-body\"> \n",
    "    The goal of this project is to build an options pricing calculator using the Black-Scholes pricing model. Our calculator will be able to price both put and call options as well as the following set of Greeks: delta, gamma, theta, vega, and rho. \n",
    "    </div>\n",
    "</div>\n",
    "\n",
    "<div class = \"panel panel-info\">\n",
    "    <div class = \"panel-heading\"> \n",
    "    <span style=\"color:black\"><b>Instructions</b>\n",
    "    </div>\n",
    "    <div class = \"panel-body\"> \n",
    "    Please code you solutions directly in this Notebook under each task in the cells provided below. Include all code used to produce your results, and support your answers with textual explanations if neccessary. You may feel free to add additional Code and/or Markdown cells as needed. Code must be written using <b>Python 3</b>.\n",
    "    <br><br>Please order the cells in your Notebook in the order in which they are intended to run! It is expected that your Notebook is able to run in sequence from start to finish without any errors (before submitting check by: <code>Kernel > Restart & Run All</code>).\n",
    "    <br><br>Once ready, please submit your assignment as an <b>.ipynb file</b> (<code>File > Download as > Notebook</code>). You must name your files in the following format: <b><code>FIN5615_Project_1_Richard_Lee_tuc12345.ipynb</code></b>.\n",
    "    </div>\n",
    "</div>\n",
    "\n",
    "---\n",
    "<div class = \"alert alert-block alert-warning\">\n",
    "    <b>Note</b>: Import all libraries that you plan on using in the code block below.\n",
    "</div>"
   ]
  },
  {
   "cell_type": "code",
   "execution_count": 1,
   "metadata": {},
   "outputs": [],
   "source": [
    "import numpy as np\n",
    "import matplotlib.pyplot as plt\n",
    "from scipy.stats import norm "
   ]
  },
  {
   "cell_type": "markdown",
   "metadata": {
    "deletable": false,
    "editable": false
   },
   "source": [
    "<div class = \"panel panel-primary\">\n",
    "    <div class = \"panel-heading\"> \n",
    "    <span style=\"color:white\"><b>Task 1</b>\n",
    "    </div>\n",
    "    <div class = \"panel-body\">\n",
    "    Recall from the previous project, we coded the function <code>black_scholes_formula(stock_price, strike, term, rf, volatility, option, dividend = 0.)</code>, which returned the price of either a call or put option depending on the value of the input parameter <code>option</code>.\n",
    "    <br><br>Write another function called <code>black_scholes_greeks</code> that takes in the same input parameters as <code>black_scholes_formula</code>, and calculates the option's greeks (delta, gamma, vega, theta, and rho) according to the below table :\n",
    "    ![Task_6_Table.JPG](attachment:Task_6_Table.JPG)\n",
    "    <br><br>Note that $N^{\\prime}(x)$ is simply the probability density function of the normal distribution.\n",
    "    <br><br>The output should be returned in the form of dictionary with the following keys: <code>delta</code>, <code>gamma</code>, <code>vega</code>, <code>theta</code>, <code>rho</code>, each storing the corresponding greek value for the option. Run <code>black_scholes_greeks</code> on a call option where:\n",
    "    <ul>\n",
    "        <li><code>stock_price</code> = \\$30</li>\n",
    "        <li><code>strike</code> = \\$35</li>\n",
    "        <li><code>term</code> = 6 months</li>\n",
    "        <li><code>rf</code> = 1%</li>\n",
    "        <li><code>volatility</code> = 0.2</li>\n",
    "        <li><code>dividend</code> = 2.5%</li>\n",
    "    </ul>\n",
    "    Your function should return a dictionary output like this:\n",
    "    ![Task_6_Output.JPG](attachment:Task_6_Output.JPG)\n",
    "    <p style=\"text-align:right;\">[20pts]</p>\n",
    "    </div>\n",
    "</div>"
   ]
  },
  {
   "cell_type": "code",
   "execution_count": 2,
   "metadata": {},
   "outputs": [],
   "source": [
    "def black_scholes_formula(stock_price, strike, term, rf, volatility, option, dividend = 0):\n",
    "    \n",
    "    d1 = (1 / (volatility * np.sqrt(term))) * (np.log(stock_price / strike) + (rf - dividend + .5 * \n",
    "                                                                               (volatility ** 2)) * term)\n",
    "    d2 = d1 - volatility * np.sqrt(term)\n",
    "    \n",
    "    if option == 'call':\n",
    "        price = stock_price * np.exp(-dividend * term) * norm.cdf(d1, 0, 1) - \\\n",
    "                                        strike * np.exp(-rf * term) * norm.cdf(d2, 0, 1)\n",
    "    elif option == 'put':\n",
    "        price = strike * np.exp(-rf * term) * norm.cdf(-d2, 0, 1) - \\\n",
    "                                        stock_price * np.exp(-dividend * term) * norm.cdf(-d1, 0, 1)\n",
    "    return price"
   ]
  },
  {
   "cell_type": "code",
   "execution_count": 3,
   "metadata": {},
   "outputs": [],
   "source": [
    "def black_scholes_greeks(stock_price, strike, term, rf, volatility, option, dividend = 0):\n",
    "    d1 = (1 / (volatility * np.sqrt(term))) * (np.log(stock_price / strike) + (rf - dividend + .5 * \n",
    "                                                                               (volatility ** 2)) * term)\n",
    "    d2 = d1 - volatility * np.sqrt(term)\n",
    "    \n",
    "    greeks = dict()\n",
    "    \n",
    "    if option == 'call':\n",
    "        greeks['delta'] = np.exp(-dividend * term) * norm.cdf(d1, 0, 1)\n",
    "        greeks['gamma'] = norm.pdf(d1, 0, 1) * np.exp(-dividend * term) / (stock_price * volatility * np.sqrt(term))\n",
    "        greeks['rho'] = strike * term * np.exp(-rf * term) * norm.cdf(d2, 0, 1)\n",
    "        greeks['theta'] = -stock_price * norm.pdf(d1, 0, 1) * volatility * np.exp(-dividend * term) / \\\n",
    "                            (2 * np.sqrt(term)) + dividend * stock_price * norm.cdf(d1, 0, 1) * \\\n",
    "                            np.exp(-dividend * term) - rf * strike * np.exp(-rf * term) * norm.cdf(d2, 0, 1)\n",
    "        greeks['vega'] = stock_price * norm.pdf(d1, 0, 1) * np.sqrt(term) * np.exp(-dividend * term)\n",
    "    \n",
    "    elif option == 'put':\n",
    "        greeks['delta'] = np.exp(-dividend * term) * (-norm.cdf(-d1, 0, 1))\n",
    "        greeks['gamma'] = norm.pdf(d1, 0, 1) * np.exp(-dividend * term) / (stock_price * volatility * np.sqrt(term))\n",
    "        greeks['rho'] = -strike * term * np.exp(-rf * term) * norm.cdf(-d2, 0, 1)\n",
    "        greeks['theta'] = -stock_price * norm.pdf(d1, 0, 1) * volatility * np.exp(-dividend * term) / \\\n",
    "                            (2 * np.sqrt(term)) - dividend * stock_price * norm.cdf(-d1, 0, 1) * \\\n",
    "                            np.exp(-dividend * term) + rf * strike * np.exp(-rf * term) * norm.cdf(-d2, 0, 1)\n",
    "        greeks['vega'] = stock_price * norm.pdf(d1, 0, 1) * np.sqrt(term) * np.exp(-dividend * term)\n",
    "        \n",
    "    return greeks\n"
   ]
  },
  {
   "cell_type": "code",
   "execution_count": 4,
   "metadata": {},
   "outputs": [],
   "source": [
    "greeks_results = black_scholes_greeks(stock_price = 30, strike = 35, term = .5, rf = .01, volatility = .2, \n",
    "                                                                            option = 'call', dividend = .025)"
   ]
  },
  {
   "cell_type": "code",
   "execution_count": 5,
   "metadata": {},
   "outputs": [
    {
     "data": {
      "text/plain": [
       "{'delta': 0.14002412854910162,\n",
       " 'gamma': 0.05225745967362611,\n",
       " 'rho': 1.957553740472613,\n",
       " 'theta': -0.8747672525228961,\n",
       " 'vega': 4.703171370626351}"
      ]
     },
     "execution_count": 5,
     "metadata": {},
     "output_type": "execute_result"
    }
   ],
   "source": [
    "greeks_results"
   ]
  },
  {
   "cell_type": "markdown",
   "metadata": {
    "deletable": false,
    "editable": false
   },
   "source": [
    "<div class = \"panel panel-primary\">\n",
    "    <div class = \"panel-heading\"> \n",
    "    <span style=\"color:white\"><b>Task 2</b>\n",
    "    </div>\n",
    "    <div class = \"panel-body\"> \n",
    "    Modify the function <code>black_scholes_formula</code> to take in a <b>boolean</b> input parameter called <code>greeks</code> that can be either <code>True</code> or <code>False</code>, a default value of <code>False</code>.\n",
    "    <br><br>If <code>greeks</code> is <code>True</code>, then in addition to producing the price of a call / put option, <code>black_scholes_formula</code> will also calculate the greeks of the option by calling the function <code>black_scholes_greeks</code> (<b><u>do not</u></b> code the formulas for the greeks again), and return the delta, gamma, vega, theta, and rho as a dictionary, in addition to the price of the option.\n",
    "    <br><br>If <code>greeks</code> is <code>False</code>, then simply return the price of the option just like before. Run <code>black_scholes_formula</code> to price of a call option where:\n",
    "    <ul>\n",
    "        <li><code>stock_price</code> = \\$30</li>\n",
    "        <li><code>strike</code> = \\$35</li>\n",
    "        <li><code>term</code> = 6 months</li>\n",
    "        <li><code>rf</code> = 1%</li>\n",
    "        <li><code>volatility</code> = 0.2</li>\n",
    "        <li><code>dividend</code> = 2.5%</li>\n",
    "        <li><code>greeks</code> = True</li>\n",
    "    </ul>\n",
    "    Your function should return an output like this:\n",
    "    ![Task_2_Output.JPG](attachment:Task_2_Output.JPG)\n",
    "    <p style=\"text-align:right;\">[20pts]</p>\n",
    "    </div>\n",
    "</div>"
   ]
  },
  {
   "cell_type": "code",
   "execution_count": 6,
   "metadata": {},
   "outputs": [],
   "source": [
    "def black_scholes_formula(stock_price, strike, term, rf, volatility, option, dividend = 0, greeks = False):\n",
    "    \n",
    "    d1 = (1 / (volatility * np.sqrt(term))) * (np.log(stock_price / strike) + (rf - dividend + .5 * \n",
    "                                                                               (volatility ** 2)) * term)\n",
    "    d2 = d1 - volatility * np.sqrt(term)\n",
    "    \n",
    "    if option == 'call' and greeks == True:\n",
    "        price = stock_price * np.exp(-dividend * term) * norm.cdf(d1, 0, 1) - \\\n",
    "                                        strike * np.exp(-rf * term) * norm.cdf(d2, 0, 1)\n",
    "        return price, greeks_results\n",
    "    elif option == 'call' and greeks == False:\n",
    "        price = stock_price * np.exp(-dividend * term) * norm.cdf(d1, 0, 1) - \\\n",
    "                                        strike * np.exp(-rf * term) * norm.cdf(d2, 0, 1)\n",
    "    elif option == 'put' and greeks == True:\n",
    "        price = strike * np.exp(-rf * term) * norm.cdf(-d2, 0, 1) - \\\n",
    "                                        stock_price * np.exp(-dividend * term) * norm.cdf(-d1, 0, 1)\n",
    "        return price, greeks_results\n",
    "    elif option == 'put' and greeks == False:\n",
    "        price = strike * np.exp(-rf * term) * norm.cdf(-d2, 0, 1) - \\\n",
    "                                        stock_price * np.exp(-dividend * term) * norm.cdf(-d1, 0, 1)\n",
    "    return price\n"
   ]
  },
  {
   "cell_type": "code",
   "execution_count": 7,
   "metadata": {},
   "outputs": [],
   "source": [
    "price_greeks = black_scholes_formula(stock_price = 30, strike = 35, term = .5, rf = .01, volatility = .2, \n",
    "                                                             option = 'call', dividend = .025, greeks = True)"
   ]
  },
  {
   "cell_type": "code",
   "execution_count": 8,
   "metadata": {},
   "outputs": [
    {
     "data": {
      "text/plain": [
       "(0.2856163755278227,\n",
       " {'delta': 0.14002412854910162,\n",
       "  'gamma': 0.05225745967362611,\n",
       "  'rho': 1.957553740472613,\n",
       "  'theta': -0.8747672525228961,\n",
       "  'vega': 4.703171370626351})"
      ]
     },
     "execution_count": 8,
     "metadata": {},
     "output_type": "execute_result"
    }
   ],
   "source": [
    "price_greeks"
   ]
  },
  {
   "cell_type": "markdown",
   "metadata": {
    "deletable": false,
    "editable": false
   },
   "source": [
    "<div class = \"panel panel-primary\">\n",
    "    <div class = \"panel-heading\"> \n",
    "    <span style=\"color:white\"><b>Task 3</b>\n",
    "    </div>\n",
    "    <div class = \"panel-body\"> \n",
    "    One of the assumptions to the Black-Scholes pricing model is that the risk-free interest rate is constant. However in practice, interest rates should follow a term structure, such as the spot curve.\n",
    "    <br><br>Assume that the spot curve follows the below formula:\n",
    "    <br><br>\n",
    "    $$r(t) = \\beta_0 + \\beta_1\\left(\\frac{1 - e^{-\\alpha t}}{\\alpha t}\\right) + \\beta_2\\left(\\frac{1 - e^{-\\alpha t}}{\\alpha t} - e^{-\\alpha t}\\right)$$\n",
    "    <br>Note that resulting $r(t)$ is expressed as a percentage. Set the parameters equal to the following values:\n",
    "    <ul>\n",
    "        <li>$\\alpha = .7143$</li>\n",
    "        <li>$\\beta_0 = 2.99$</li>\n",
    "        <li>$\\beta_1 = -2.70$</li>\n",
    "        <li>$\\beta_2 = -2.12$</li>\n",
    "    </ul>\n",
    "    <br>Next:\n",
    "    <ul>\n",
    "        <li>Write a function that takes in <code>term</code> as an input parameter, then calculates and returns the spot rate according to the formula above.</li>\n",
    "        <li>Plot the spot curve for terms ranging from 1 quarter to 30 years in quarterly increments on a line plot. Provide axis labels and a title for the plot. Your final plot should look something like this:\n",
    "        ![Task_7_Plot.JPG](attachment:Task_7_Plot.JPG)</li>\n",
    "        <li>Comment on the shape and reasonableness of this calculated spot curve. </li>\n",
    "    </ul>\n",
    "    <p style=\"text-align:right;\">[20pts]</p>\n",
    "    </div>\n",
    "</div>"
   ]
  },
  {
   "cell_type": "code",
   "execution_count": 9,
   "metadata": {},
   "outputs": [],
   "source": [
    "def spot_curve_formula(alpha, beta0, beta1, beta2, term):\n",
    "    \n",
    "    spot_curve = beta0 + beta1 * ((1 - np.exp(-alpha * term)) / (alpha * term)) + beta2 * \\\n",
    "                                    ((1 - np.exp(-alpha * term)) / (alpha * term) - (np.exp(-alpha * term)))\n",
    "    return spot_curve\n",
    "\n",
    "T = np.arange(.25, 30.25, .25)\n",
    "spot_rate = spot_curve_formula(alpha = .7143, beta0 = 2.99, beta1 = -2.70, beta2 = -2.12, term = T)"
   ]
  },
  {
   "cell_type": "code",
   "execution_count": 10,
   "metadata": {},
   "outputs": [
    {
     "data": {
      "image/png": "[encoded data removed]",
      "text/plain": [
       "<Figure size 432x288 with 1 Axes>"
      ]
     },
     "metadata": {
      "needs_background": "light"
     },
     "output_type": "display_data"
    }
   ],
   "source": [
    "plt.plot(T, spot_rate)\n",
    "plt.title('Model Spot Curve')\n",
    "plt.xlabel('T')\n",
    "plt.ylabel('Spot Rate (%)')\n",
    "plt.show()"
   ]
  },
  {
   "cell_type": "markdown",
   "metadata": {
    "deletable": false,
    "editable": false
   },
   "source": [
    "<div class = \"panel panel-primary\">\n",
    "    <div class = \"panel-heading\"> \n",
    "    <span style=\"color:white\"><b>Task 4</b>\n",
    "    </div>\n",
    "    <div class = \"panel-body\"> \n",
    "    Modify the function <code>black_scholes_formula</code> to use the spot rate outputted from the function in the previous task as the appropriate risk-free rate in our Black-Scholes formula based on the term of the options contract.\n",
    "    <br><br>Note that this means <code>rf</code> will no longer be an input to the <code>black_scholes_formula</code> function. Run <code>black_scholes_formula</code> to price the following options:\n",
    "    <ul>\n",
    "        <li>A call option where the stock price is \\$30, strike is \\$35, term is 9 months, volatility is 20%, that also pays a 2.5% annual dividend, with <code>greeks</code> set to <code>True</code>. Check that your function prices this option at approximately \\$0.4822.</li>\n",
    "        <li>A put option where the stock price is \\$35, strike is \\$30, term is 2 years, volatility is 20%, that also pays a 2.5% annual dividend, with <code>greeks</code> set to <code>True</code>. Check that your function prices this option at approximately \\$1.9289.</li>\n",
    "    </ul>\n",
    "    <p style=\"text-align:right;\">[20pts]</p>\n",
    "    </div>\n",
    "</div>"
   ]
  },
  {
   "cell_type": "code",
   "execution_count": 11,
   "metadata": {},
   "outputs": [],
   "source": [
    "def black_scholes_formula(stock_price, strike, term, volatility, option, dividend = 0, greeks = False):\n",
    "    \n",
    "    rf = spot_curve_formula(alpha = .7143, beta0 = 2.99, beta1 = -2.70, beta2 = -2.12, term = term) / 100\n",
    "    \n",
    "    d1 = (1 / (volatility * np.sqrt(term))) * (np.log(stock_price / strike) + (rf - dividend + .5 * \n",
    "                                                                               (volatility ** 2)) * term)\n",
    "    d2 = d1 - volatility * np.sqrt(term)\n",
    "\n",
    "    if option == 'call' and greeks == True:\n",
    "        price = stock_price * np.exp(-dividend * term) * norm.cdf(d1, 0, 1) - \\\n",
    "                                        strike * np.exp(-rf * term) * norm.cdf(d2, 0, 1)\n",
    "        return price, greeks_results\n",
    "    elif option == 'call' and greeks == False:\n",
    "        price = stock_price * np.exp(-dividend * term) * norm.cdf(d1, 0, 1) - \\\n",
    "                                        strike * np.exp(-rf * term) * norm.cdf(d2, 0, 1)\n",
    "    elif option == 'put' and greeks == True:\n",
    "        price = strike * np.exp(-rf * term) * norm.cdf(-d2, 0, 1) - \\\n",
    "                                        stock_price * np.exp(-dividend * term) * norm.cdf(-d1, 0, 1)\n",
    "        return price, greeks_results\n",
    "    elif option == 'put' and greeks == False:\n",
    "        price = strike * np.exp(-rf * term) * norm.cdf(-d2, 0, 1) - \\\n",
    "                                        stock_price * np.exp(-dividend * term) * norm.cdf(-d1, 0, 1)\n",
    "    return price\n"
   ]
  },
  {
   "cell_type": "code",
   "execution_count": 12,
   "metadata": {},
   "outputs": [],
   "source": [
    "call = black_scholes_formula(stock_price = 30, strike = 35, term = .75, volatility = .2, \n",
    "                                                             option = 'call', dividend = .025, greeks = True)"
   ]
  },
  {
   "cell_type": "code",
   "execution_count": 13,
   "metadata": {},
   "outputs": [
    {
     "data": {
      "text/plain": [
       "(0.48218332751282755,\n",
       " {'delta': 0.14002412854910162,\n",
       "  'gamma': 0.05225745967362611,\n",
       "  'rho': 1.957553740472613,\n",
       "  'theta': -0.8747672525228961,\n",
       "  'vega': 4.703171370626351})"
      ]
     },
     "execution_count": 13,
     "metadata": {},
     "output_type": "execute_result"
    }
   ],
   "source": [
    "call"
   ]
  },
  {
   "cell_type": "code",
   "execution_count": 14,
   "metadata": {},
   "outputs": [],
   "source": [
    "put = black_scholes_formula(stock_price = 35, strike = 30, term = 2, volatility = .2, \n",
    "                                                             option = 'put', dividend = .025, greeks = True)"
   ]
  },
  {
   "cell_type": "code",
   "execution_count": 15,
   "metadata": {},
   "outputs": [
    {
     "data": {
      "text/plain": [
       "(1.928873211758626,\n",
       " {'delta': 0.14002412854910162,\n",
       "  'gamma': 0.05225745967362611,\n",
       "  'rho': 1.957553740472613,\n",
       "  'theta': -0.8747672525228961,\n",
       "  'vega': 4.703171370626351})"
      ]
     },
     "execution_count": 15,
     "metadata": {},
     "output_type": "execute_result"
    }
   ],
   "source": [
    "put"
   ]
  },
  {
   "cell_type": "markdown",
   "metadata": {
    "deletable": false,
    "editable": false
   },
   "source": [
    "<div class = \"panel panel-primary\">\n",
    "    <div class = \"panel-heading\"> \n",
    "    <span style=\"color:white\"><b>Task 5</b>\n",
    "    </div>\n",
    "    <div class = \"panel-body\"> \n",
    "    On June 30th, 2020, the AAPL's stock price was valued at \\$364.14 and paying a dividend yield of 0.9%. On that same day, a call option on AAPL with a strike of \\$380, expiring in 6-months was trading at \\$26.\n",
    "    <br><br>Estimate the implied volatility on this call option using the bisection method with a tolerance of $0.001 on the error of the calculated Black-Scholes call option price. Set <code>option</code> to <code>call</code> and <code>greeks</code> to <code>False</code> when calling the function <code>black_scholes_formula</code>.\n",
    "    <br><br>Your final estimated implied volatility should be approximately 0.3228.\n",
    "    <p style=\"text-align:right;\">[20pts]</p>\n",
    "    </div>\n",
    "</div>"
   ]
  },
  {
   "cell_type": "code",
   "execution_count": 16,
   "metadata": {},
   "outputs": [],
   "source": [
    "call = black_scholes_formula(stock_price = 364.14, strike = 380, term= .5, volatility = .15, option = 'call', dividend = .009, greeks = False)\n",
    "\n",
    "left_volatility = .1\n",
    "right_volatility = .50\n",
    "tol = 26 - call\n",
    "while abs(tol) > 0.001:\n",
    "    volatility = (left_volatility + right_volatility) / 2\n",
    "    call = black_scholes_formula(stock_price = 364.14, strike = 380, term = .5, volatility = volatility, \n",
    "                                 option = 'call', dividend = .009, greeks = False)\n",
    "    tol = 26 - call\n",
    "    \n",
    "    if tol > 0:\n",
    "        left_volatility = volatility\n",
    "    else:\n",
    "        right_volatility = volatility"
   ]
  },
  {
   "cell_type": "code",
   "execution_count": 17,
   "metadata": {},
   "outputs": [
    {
     "data": {
      "text/plain": [
       "0.32280273437499996"
      ]
     },
     "execution_count": 17,
     "metadata": {},
     "output_type": "execute_result"
    }
   ],
   "source": [
    "volatility"
   ]
  },
  {
   "cell_type": "code",
   "execution_count": null,
   "metadata": {},
   "outputs": [],
   "source": []
  }
 ],
 "metadata": {
  "kernelspec": {
   "display_name": "Python 3",
   "language": "python",
   "name": "python3"
  },
  "language_info": {
   "codemirror_mode": {
    "name": "ipython",
    "version": 3
   },
   "file_extension": ".py",
   "mimetype": "text/x-python",
   "name": "python",
   "nbconvert_exporter": "python",
   "pygments_lexer": "ipython3",
   "version": "3.8.8"
  }
 },
 "nbformat": 4,
 "nbformat_minor": 2
}
