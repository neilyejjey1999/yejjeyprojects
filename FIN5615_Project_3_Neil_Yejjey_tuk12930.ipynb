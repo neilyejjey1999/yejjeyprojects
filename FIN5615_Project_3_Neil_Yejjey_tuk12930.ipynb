{
 "cells": [
  {
   "cell_type": "markdown",
   "metadata": {
    "deletable": false,
    "editable": false
   },
   "source": [
    "<h2>FIN5615 Project #3\n",
    "    <p class=\"text-primary\">Random Walk Simulaton (Part II)</p>\n",
    "</h2>"
   ]
  },
  {
   "cell_type": "markdown",
   "metadata": {
    "deletable": false,
    "editable": false
   },
   "source": [
    "<div class = \"panel panel-success\">\n",
    "    <div class = \"panel-heading\"> \n",
    "    <span style=\"color:black\"><b>Project Introduction</b>\n",
    "    </div>\n",
    "    <div class = \"panel-body\"> \n",
    "    In this project we will try to address some of the shortcomings of modeling stock price as a simple random walk. We will compare the simulated option prices from our random walk model against that of the Black-Scholes options pricing formula.\n",
    "    </div>\n",
    "</div>\n",
    "<div class = \"panel panel-info\">\n",
    "    <div class = \"panel-heading\"> \n",
    "    <span style=\"color:black\"><b>Instructions</b>\n",
    "    </div>\n",
    "    <div class = \"panel-body\"> \n",
    "    Please code you solutions directly in this Notebook under each task in the cells provided below. Include all code used to produce your results, and support your answers with textual explanations if neccessary. You may feel free to add additional Code and/or Markdown cells as needed. Code must be written using <b>Python 3</b>.\n",
    "    <br><br>Please order the cells in your Notebook in the order in which they are intended to run! It is expected that your Notebook is able to run in sequence from start to finish without any errors (before submitting check by: <code>Kernel > Restart & Run All</code>).\n",
    "    <br><br>Once ready, please submit your assignment as an <b>.ipynb file</b> (<code>File > Download as > Notebook</code>). You must name your files in the following format: <b><code>FIN5615_Project_1_Richard_Lee_tuc12345.ipynb</code></b>.\n",
    "    </div>\n",
    "</div>\n",
    "\n",
    "---\n",
    "<div class = \"alert alert-block alert-warning\">\n",
    "    <b>Note</b>: Import all libraries that you plan on using in the code block below.\n",
    "</div>"
   ]
  },
  {
   "cell_type": "code",
   "execution_count": 1,
   "metadata": {},
   "outputs": [],
   "source": [
    "import pandas as pd\n",
    "import numpy as np\n",
    "import matplotlib.pyplot as plt\n",
    "import random"
   ]
  },
  {
   "cell_type": "markdown",
   "metadata": {
    "deletable": false,
    "editable": false
   },
   "source": [
    "<div class = \"panel panel-primary\">\n",
    "    <div class = \"panel-heading\"> \n",
    "    <span style=\"color:white\"><b>Task 1</b>\n",
    "    </div>\n",
    "    <div class = \"panel-body\"> \n",
    "    Recall the random walk simulation we built to model Ford's stock price from the previous project:\n",
    "    <br><br>\n",
    "    $$X_{t+1} = \\left\\{\n",
    "        \\begin{array}{ll}\n",
    "            X_t \\times u = X_te^{\\sigma\\sqrt{h}} & \\quad p = \\frac{e^{rh} - d}{u - d} \\\\\n",
    "            X_t \\times d = X_te^{-\\sigma\\sqrt{h}} & \\quad 1 - p\n",
    "        \\end{array}\n",
    "    \\right.$$ \n",
    "    <br><br>Where we assumed that the annual volatility of F's returns is 10% and a risk-free rate of 1%, and simulated the price of F under this new dynamic over the next year (250 trading days) for 1000 trials.\n",
    "    <br><br>Rerun that simulation using the code below:\n",
    "    <br><code>\n",
    "random.seed(5615)\n",
    "\n",
    "starting_value = 5.\n",
    "sigma = .1\n",
    "risk_free = .01\n",
    "\n",
    "steps = 250\n",
    "trials = 1000\n",
    "\n",
    "u = np.exp(sigma \\* np.sqrt(1. / steps))\n",
    "d = 1. / u\n",
    "p = (np.exp(risk_free / steps) - d) / (u - d)\n",
    "\n",
    "sims = []\n",
    "for trial in range(trials):\n",
    "    random_path = [starting_value]\n",
    "    for step in range(steps):\n",
    "        if random.random() < p:\n",
    "            price_change = u\n",
    "        else:\n",
    "            price_change = d\n",
    "\n",
    "        random_path.append(random_path[-1] \\* price_change)\n",
    "    sims.append(random_path)\n",
    "</code>\n",
    "    <br><br>The simulation is stored in the variable <code>sims</code>. Check that <code>sims</code> is a list of length 1000 (i.e. 1000 trials), with each element being a list of length 251 (i.e. price at time 0 plus 250 future time steps).\n",
    "    <p style=\"text-align:right;\">[20pts]</p>\n",
    "    </div>\n",
    "</div>"
   ]
  },
  {
   "cell_type": "code",
   "execution_count": 2,
   "metadata": {},
   "outputs": [],
   "source": [
    "random.seed(5615)"
   ]
  },
  {
   "cell_type": "code",
   "execution_count": 3,
   "metadata": {},
   "outputs": [
    {
     "data": {
      "text/plain": [
       "1000"
      ]
     },
     "execution_count": 3,
     "metadata": {},
     "output_type": "execute_result"
    }
   ],
   "source": [
    "starting_value = 5.\n",
    "sigma = .1\n",
    "risk_free = .01\n",
    "\n",
    "steps = 250\n",
    "trials = 1000\n",
    "\n",
    "u = np.exp(sigma * np.sqrt(1. / steps))\n",
    "d = 1. / u\n",
    "p = (np.exp(risk_free / steps) - d) / (u - d)\n",
    "\n",
    "sims = []\n",
    "for trial in range(trials):\n",
    "    random_path = [starting_value]\n",
    "    for step in range(steps):\n",
    "        if random.random() < p:\n",
    "            price_change = u\n",
    "        else:\n",
    "            price_change = d\n",
    "        random_path.append(random_path[-1] * price_change)\n",
    "    sims.append(random_path)\n",
    "len(sims)\n"
   ]
  },
  {
   "cell_type": "markdown",
   "metadata": {
    "deletable": false,
    "editable": false
   },
   "source": [
    "<div class = \"panel panel-primary\">\n",
    "    <div class = \"panel-heading\"> \n",
    "    <span style=\"color:white\"><b>Task 2</b>\n",
    "    </div>\n",
    "    <div class = \"panel-body\"> \n",
    "    The model we have now is the <b>Cox-Ross-Rubinstein Binomial Tree</b>, and is a much better approximation of stock price movements compared to a simple random walk. We can even price options contracts using this model.\n",
    "    <br><br>Continue to assume that F is worth \\$5 today, with an annual volatility of 10%, and risk-free rate at 1%. \n",
    "    <ul>\n",
    "        <li>Using the simulation results from the previous task, for each of the 1000 trials, calculate the terminal payoff of a call option with strike of \\$5.50 that expires 1 year from today. Your result should be a list of 1000 payoffs (one for each trial of the simulation).</li>\n",
    "        <li>Calculate the simulated average payoff of this call option. It should be approximately \\$0.05.</li>\n",
    "        <li>What is the present value of the simulated average payoff of this call option? This is the Binomial Tree's simulated option price.</li>\n",
    "        <li>Compare this value against the price under the Black-Scholes options pricing formula (you do not have to do this in python). How close are the two prices?</li>\n",
    "    </ul>\n",
    "    <br>Recall the payoff of a call option is $max(S_T - K, 0)$.\n",
    "    <p style=\"text-align:right;\">[20pts]</p>\n",
    "    </div>\n",
    "</div>"
   ]
  },
  {
   "cell_type": "code",
   "execution_count": 4,
   "metadata": {},
   "outputs": [],
   "source": [
    "random.seed(5615)"
   ]
  },
  {
   "cell_type": "code",
   "execution_count": 5,
   "metadata": {},
   "outputs": [
    {
     "data": {
      "text/plain": [
       "0.050584429128212864"
      ]
     },
     "execution_count": 5,
     "metadata": {},
     "output_type": "execute_result"
    }
   ],
   "source": [
    "random.seed(5615)\n",
    "\n",
    "starting_value = 5.\n",
    "sigma = .1\n",
    "risk_free = .01\n",
    "k = 5.5\n",
    "t = 1\n",
    "\n",
    "steps = 250\n",
    "trials = 1000\n",
    "\n",
    "\n",
    "u = np.exp(sigma * np.sqrt(1. / steps))\n",
    "d = 1. / u\n",
    "p = (np.exp(risk_free / steps) - d) / (u - d)\n",
    "c_payoff = []\n",
    "\n",
    "sims = []\n",
    "for trial in range(trials):\n",
    "    random_path = [starting_value]\n",
    "    for step in range(steps):\n",
    "        if random.random() < p:\n",
    "            price_change = u\n",
    "        else:\n",
    "            price_change = d\n",
    "\n",
    "\n",
    "        random_path.append(random_path[-1] * price_change)\n",
    "    sims.append(random_path)\n",
    "    c_payoff.append(max(random_path[-1] - k, 0))\n",
    "average = np.mean(c_payoff)\n",
    "average\n",
    "    "
   ]
  },
  {
   "cell_type": "code",
   "execution_count": 6,
   "metadata": {},
   "outputs": [
    {
     "data": {
      "text/plain": [
       "0.050081105648683726"
      ]
     },
     "execution_count": 6,
     "metadata": {},
     "output_type": "execute_result"
    }
   ],
   "source": [
    "PV = average*np.exp(-risk_free * t)\n",
    "PV"
   ]
  },
  {
   "cell_type": "markdown",
   "metadata": {
    "collapsed": true
   },
   "source": [
    "\n",
    "The value of the black-schoels and this value are almost identical, with the black schoels being marginally higher\n",
    "\n"
   ]
  },
  {
   "cell_type": "markdown",
   "metadata": {
    "deletable": false,
    "editable": false
   },
   "source": [
    "<div class = \"panel panel-primary\">\n",
    "    <div class = \"panel-heading\"> \n",
    "    <span style=\"color:white\"><b>Task 3</b>\n",
    "    </div>\n",
    "    <div class = \"panel-body\"> \n",
    "    We can further improve our simulated option price to match the Black-Scholes options price, by (1) using more steps in our binomial tree, i.e. smaller step sizes, and (2) increasing the number of trials.\n",
    "    <br><br>Reprice the call option on F using 1000 steps and 5000 trials (this will take more computation time). How does the simulated price compare to the Black-Scholes options price? (It should be close.)\n",
    "    <br><br>Set the random seed to 5615 at the beginning of your code.\n",
    "    <br><br>Make sure you've changed the values for <code>steps</code> and <code>trials</code>, then rerun the simulation from Task 1. Your simulation should now be a list of lists of lengths 1000 by 5001.\n",
    "    <p style=\"text-align:right;\">[30pts]</p>\n",
    "    </div>\n",
    "</div>"
   ]
  },
  {
   "cell_type": "code",
   "execution_count": 7,
   "metadata": {},
   "outputs": [],
   "source": [
    "random.seed(5615)"
   ]
  },
  {
   "cell_type": "code",
   "execution_count": 8,
   "metadata": {},
   "outputs": [],
   "source": [
    "random.seed(5615)\n",
    "starting_value = 5.\n",
    "sigma = .1\n",
    "risk_free = .01\n",
    "k = 5.5\n",
    "t = 1\n",
    "\n",
    "steps = 1000\n",
    "trials = 5000\n",
    "\n",
    "\n",
    "u = np.exp(sigma * np.sqrt(1. / steps))\n",
    "d = 1. / u\n",
    "p = (np.exp(risk_free / steps) - d) / (u - d)\n",
    "c_payoff = []\n",
    "\n",
    "sims = []\n",
    "for trial in range(trials):\n",
    "    random_path = [starting_value]\n",
    "    for step in range(steps):\n",
    "        if random.random() < p:\n",
    "            price_change = u\n",
    "        else:\n",
    "            price_change = d\n",
    "\n",
    "\n",
    "        random_path.append(random_path[-1] * price_change)\n",
    "    sims.append(random_path)\n",
    "    c_payoff.append(max(random_path[-1] - k, 0))"
   ]
  },
  {
   "cell_type": "code",
   "execution_count": 9,
   "metadata": {},
   "outputs": [
    {
     "data": {
      "text/plain": [
       "0.059152444165736916"
      ]
     },
     "execution_count": 9,
     "metadata": {},
     "output_type": "execute_result"
    }
   ],
   "source": [
    "Average = np.mean(c_payoff)\n",
    "Average"
   ]
  },
  {
   "cell_type": "code",
   "execution_count": 10,
   "metadata": {},
   "outputs": [
    {
     "data": {
      "text/plain": [
       "0.058563867512144784"
      ]
     },
     "execution_count": 10,
     "metadata": {},
     "output_type": "execute_result"
    }
   ],
   "source": [
    "pv = Average*np.exp(-risk_free * t)\n",
    "pv"
   ]
  },
  {
   "cell_type": "code",
   "execution_count": 11,
   "metadata": {},
   "outputs": [],
   "source": [
    "###similar to the last problem, the black scohoels and this problem are nearly identical in value. This time around the black schoels model is sligtly smaller"
   ]
  },
  {
   "cell_type": "markdown",
   "metadata": {
    "deletable": false,
    "editable": false
   },
   "source": [
    "<div class = \"panel panel-primary\">\n",
    "    <div class = \"panel-heading\"> \n",
    "    <span style=\"color:white\"><b>Task 4</b>\n",
    "    </div>\n",
    "    <div class = \"panel-body\"> \n",
    "    Tesla (TSLA) stock price is currently \\$1400, with an annual volatility of 70%. Assume a risk-free rate of 1%. Assume a 6-month put option with a strike of \\$1200.\n",
    "    <ul>\n",
    "        <li>Calculate the price of this put option by simulating a CRR binomial tree with 5000 trials and using 1000 steps. Compare the simulated option price against the Black-Scholes options price which has a theoretical value of \\$163.23 (it should be close).</li>\n",
    "        <li>Plot the average simulated TSLA stock price over the 5000 trials. How does TSLA's simulated average path compare against F?</li>\n",
    "        <li>If simulations from the CRR Binomial Tree can give option prices similar to the Black-Scholes model, then why do we still use the latter? Under what situations might we prefer simulations over the Black-Scholes model?</li>\n",
    "    </ul>\n",
    "    <br>Recall the payoff of a put option is $max(K - S_T, 0)$.\n",
    "    <br><br>Set the random seed to 5615 at the beginning of your code.\n",
    "    <p style=\"text-align:right;\">[30pts]</p>\n",
    "    </div>\n",
    "</div>"
   ]
  },
  {
   "cell_type": "code",
   "execution_count": 12,
   "metadata": {},
   "outputs": [],
   "source": [
    "random.seed(5615)"
   ]
  },
  {
   "cell_type": "code",
   "execution_count": 13,
   "metadata": {},
   "outputs": [],
   "source": [
    "starting_value = 1400.\n",
    "sigma = .7\n",
    "risk_free = .01\n",
    "k = 1200\n",
    "t = .5\n",
    "\n",
    "steps = 1000\n",
    "trials = 5000\n",
    "\n",
    "\n",
    "u = np.exp(sigma * np.sqrt(.5 / steps))\n",
    "d = 1. / u\n",
    "p = (np.exp(risk_free / steps) - d) / (u - d)\n",
    "p_payoff = []\n",
    "\n",
    "sims = []\n",
    "for trial in range(trials):\n",
    "    random_path = [starting_value]\n",
    "    for step in range(steps):\n",
    "        if random.random() < p:\n",
    "            price_change = u\n",
    "        else:\n",
    "            price_change = d\n",
    "\n",
    "\n",
    "        random_path.append(random_path[-1] * price_change)\n",
    "    sims.append(random_path)\n",
    "    p_payoff.append(max(k - random_path[-1], 0))"
   ]
  },
  {
   "cell_type": "code",
   "execution_count": 14,
   "metadata": {},
   "outputs": [
    {
     "data": {
      "text/plain": [
       "165.73579251423828"
      ]
     },
     "execution_count": 14,
     "metadata": {},
     "output_type": "execute_result"
    }
   ],
   "source": [
    "AVerage = np.mean(p_payoff)\n",
    "AVerage"
   ]
  },
  {
   "cell_type": "code",
   "execution_count": 15,
   "metadata": {},
   "outputs": [
    {
     "data": {
      "text/plain": [
       "164.90918180055624"
      ]
     },
     "execution_count": 15,
     "metadata": {},
     "output_type": "execute_result"
    }
   ],
   "source": [
    "PV = AVerage*np.exp(-risk_free * t)\n",
    "PV"
   ]
  },
  {
   "cell_type": "markdown",
   "metadata": {},
   "source": [
    "Tesla's simulated average is far more volatile than F, meaning that F's average is more linear than tesla due to it being a less volitile option. \n",
    "\n",
    "\n"
   ]
  },
  {
   "cell_type": "code",
   "execution_count": 16,
   "metadata": {},
   "outputs": [
    {
     "data": {
      "image/png": "[encoded data removed]",
      "text/plain": [
       "<Figure size 432x288 with 1 Axes>"
      ]
     },
     "metadata": {
      "needs_background": "light"
     },
     "output_type": "display_data"
    }
   ],
   "source": [
    "averageP = np.mean(sims, axis = 0)\n",
    "plt.plot(averageP)\n",
    "plt.show()"
   ]
  },
  {
   "cell_type": "markdown",
   "metadata": {},
   "source": [
    "We would use the black-shoels model due to the fact that it is unrivaled in its ability to quickly process and provide accurate data on a bunch of options simueltanously.  However, we would prefer simulations over the black-shoels method when working with exotic options\n",
    "\n",
    "\n"
   ]
  }
 ],
 "metadata": {
  "kernelspec": {
   "display_name": "Python 3",
   "language": "python",
   "name": "python3"
  },
  "language_info": {
   "codemirror_mode": {
    "name": "ipython",
    "version": 3
   },
   "file_extension": ".py",
   "mimetype": "text/x-python",
   "name": "python",
   "nbconvert_exporter": "python",
   "pygments_lexer": "ipython3",
   "version": "3.8.8"
  }
 },
 "nbformat": 4,
 "nbformat_minor": 2
}
